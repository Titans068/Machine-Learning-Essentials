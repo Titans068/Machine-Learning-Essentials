{
 "cells": [
  {
   "cell_type": "code",
   "execution_count": 1,
   "id": "7b840de3",
   "metadata": {},
   "outputs": [
    {
     "data": {
      "text/plain": [
       "KMeans(n_clusters=3)"
      ]
     },
     "execution_count": 1,
     "metadata": {},
     "output_type": "execute_result"
    }
   ],
   "source": [
    "from sklearn.datasets import make_blobs\n",
    "from sklearn.cluster import KMeans\n",
    "# generate synthetic two-dimensional data\n",
    "X, y = make_blobs(random_state=1)\n",
    "# build the clustering model\n",
    "kmeans = KMeans(n_clusters=3)\n",
    "kmeans.fit(X)\n"
   ]
  },
  {
   "cell_type": "code",
   "execution_count": 4,
   "id": "0e69568b",
   "metadata": {},
   "outputs": [
    {
     "name": "stdout",
     "output_type": "stream",
     "text": [
      "[[-7.94152277e-01  2.10495117e+00]\n",
      " [-9.15155186e+00 -4.81286449e+00]\n",
      " [-1.14418263e+01 -4.45781441e+00]\n",
      " [-9.76761777e+00 -3.19133737e+00]\n",
      " [-4.53655648e+00 -8.40186288e+00]\n",
      " [-6.26302115e+00 -8.10666081e+00]\n",
      " [-6.38481234e+00 -8.47302970e+00]\n",
      " [-9.20490564e+00 -4.57687928e+00]\n",
      " [-2.76017908e+00  5.55121358e+00]\n",
      " [-1.17104176e+00  4.33091816e+00]\n",
      " [-1.00364080e+01 -5.56912090e+00]\n",
      " [-9.87589123e+00 -2.82386464e+00]\n",
      " [-7.17532921e+00 -8.77059017e+00]\n",
      " [-2.40671820e+00  6.09894447e+00]\n",
      " [-4.87418245e+00 -1.00495890e+01]\n",
      " [-6.07854700e+00 -7.93969420e+00]\n",
      " [-6.83238762e+00 -7.47067670e+00]\n",
      " [-2.34673261e+00  3.56128423e+00]\n",
      " [-1.03415662e+01 -3.90975169e+00]\n",
      " [-1.10926243e+01 -3.78396611e+00]\n",
      " [-6.50212109e+00 -7.91249101e+00]\n",
      " [-1.02639310e+01 -3.92073400e+00]\n",
      " [-6.81608302e+00 -8.44986926e+00]\n",
      " [-1.34052081e+00  4.15711949e+00]\n",
      " [-1.03729975e+01 -4.59207895e+00]\n",
      " [-7.37499896e+00 -1.05880659e+01]\n",
      " [-6.62351774e+00 -8.25338334e+00]\n",
      " [-1.35938959e+00  4.05424002e+00]\n",
      " [-1.97451969e-01  2.34634916e+00]\n",
      " [-6.54430585e+00 -9.29756949e+00]\n",
      " [-1.92744799e+00  4.93684534e+00]\n",
      " [-2.80207810e+00  4.05714715e+00]\n",
      " [-7.58197664e+00 -9.15025493e+00]\n",
      " [-1.85139546e+00  3.51886090e+00]\n",
      " [-8.37006175e+00 -3.61533685e+00]\n",
      " [-7.25145196e+00 -8.25497398e+00]\n",
      " [-8.79879462e+00 -3.76819213e+00]\n",
      " [-1.13708298e+01 -3.63818916e+00]\n",
      " [-1.01786328e+01 -4.55726918e+00]\n",
      " [-7.20132693e+00 -8.27228229e+00]\n",
      " [-6.78421711e+00 -8.22634081e+00]\n",
      " [-9.64716652e+00 -5.26563196e+00]\n",
      " [-1.98197711e+00  4.02243551e+00]\n",
      " [-1.12277706e+01 -3.40281105e+00]\n",
      " [-9.79941278e+00 -3.83433990e+00]\n",
      " [-6.53541686e+00 -8.01552689e+00]\n",
      " [-7.57969185e-01  4.90898421e+00]\n",
      " [ 5.26015501e-01  3.00999353e+00]\n",
      " [-2.77687025e+00  4.64090557e+00]\n",
      " [-1.78245013e+00  3.47072043e+00]\n",
      " [-1.02200406e+01 -4.15410662e+00]\n",
      " [-6.40583239e+00 -9.78066645e+00]\n",
      " [-6.98706106e+00 -7.53484784e+00]\n",
      " [-7.46576038e+00 -7.32922249e+00]\n",
      " [-1.53940095e+00  5.02369298e+00]\n",
      " [-6.56967086e+00 -8.32793126e+00]\n",
      " [-1.06177133e+01 -3.25531651e+00]\n",
      " [-8.72395657e+00 -1.98624680e+00]\n",
      " [-1.61734616e+00  4.98930508e+00]\n",
      " [-1.14663009e+00  4.10839703e+00]\n",
      " [-9.81115111e+00 -3.54329690e+00]\n",
      " [-7.71179887e+00 -7.25174121e+00]\n",
      " [-6.56169737e+00 -6.86000222e+00]\n",
      " [-1.00223295e+01 -4.72851017e+00]\n",
      " [-1.18556944e+01 -2.71718452e+00]\n",
      " [-5.73342507e+00 -8.44053597e+00]\n",
      " [-2.41395785e+00  5.65935802e+00]\n",
      " [-8.33744094e+00 -7.83968038e+00]\n",
      " [-1.83198811e+00  3.52863145e+00]\n",
      " [-9.57421815e+00 -3.87600848e+00]\n",
      " [-9.59422086e+00 -3.35977002e+00]\n",
      " [-9.25715605e+00 -4.90704915e+00]\n",
      " [-6.46256290e+00 -7.73294590e+00]\n",
      " [-8.20576492e-01  5.33759195e+00]\n",
      " [ 2.42271161e-04  5.14853403e+00]\n",
      " [-9.68207756e+00 -5.97554976e+00]\n",
      " [-6.19599603e+00 -7.40281646e+00]\n",
      " [-7.02121319e+00 -8.37954235e+00]\n",
      " [-2.18773166e+00  3.33352125e+00]\n",
      " [-1.04448411e+01 -2.72884084e+00]\n",
      " [-5.27930518e-01  5.92630669e+00]\n",
      " [-1.11969805e+01 -3.09000323e+00]\n",
      " [-9.83767543e+00 -3.07717963e+00]\n",
      " [-5.16022348e+00 -7.04217141e+00]\n",
      " [-2.35122066e+00  4.00973634e+00]\n",
      " [-5.25790464e-01  3.30659860e+00]\n",
      " [-1.46864442e+00  6.50674501e+00]\n",
      " [-7.58703957e-01  3.72276201e+00]\n",
      " [-1.03039165e+01 -3.12537390e+00]\n",
      " [-2.33080604e+00  4.39382527e+00]\n",
      " [-5.90454361e+00 -7.78373539e+00]\n",
      " [-1.60875215e+00  3.76949422e+00]\n",
      " [-1.86845414e+00  4.99311306e+00]\n",
      " [-1.06683748e+01 -3.57578476e+00]\n",
      " [-8.87629480e+00 -3.54444801e+00]\n",
      " [-6.02605758e+00 -5.96624846e+00]\n",
      " [-7.04747278e+00 -9.27524683e+00]\n",
      " [-1.37397258e+00  5.29163103e+00]\n",
      " [-6.25393051e+00 -7.10878601e+00]\n",
      " [ 8.52518583e-02  3.64528297e+00]]\n"
     ]
    },
    {
     "data": {
      "text/plain": [
       "100"
      ]
     },
     "execution_count": 4,
     "metadata": {},
     "output_type": "execute_result"
    }
   ],
   "source": [
    "print(X)\n",
    "len(X)"
   ]
  },
  {
   "cell_type": "code",
   "execution_count": 5,
   "id": "718b6295",
   "metadata": {},
   "outputs": [
    {
     "data": {
      "text/plain": [
       "array([0, 1, 1, 1, 2, 2, 2, 1, 0, 0, 1, 1, 2, 0, 2, 2, 2, 0, 1, 1, 2, 1,\n",
       "       2, 0, 1, 2, 2, 0, 0, 2, 0, 0, 2, 0, 1, 2, 1, 1, 1, 2, 2, 1, 0, 1,\n",
       "       1, 2, 0, 0, 0, 0, 1, 2, 2, 2, 0, 2, 1, 1, 0, 0, 1, 2, 2, 1, 1, 2,\n",
       "       0, 2, 0, 1, 1, 1, 2, 0, 0, 1, 2, 2, 0, 1, 0, 1, 1, 2, 0, 0, 0, 0,\n",
       "       1, 0, 2, 0, 0, 1, 1, 2, 2, 0, 2, 0])"
      ]
     },
     "execution_count": 5,
     "metadata": {},
     "output_type": "execute_result"
    }
   ],
   "source": [
    "y"
   ]
  },
  {
   "cell_type": "code",
   "execution_count": null,
   "id": "dc35dfa2",
   "metadata": {},
   "outputs": [],
   "source": []
  },
  {
   "cell_type": "code",
   "execution_count": 7,
   "id": "b7672444",
   "metadata": {},
   "outputs": [
    {
     "name": "stdout",
     "output_type": "stream",
     "text": [
      "[0 1 1 1 2 2 2 1 0 0 1 1 2 0 2 2 2 0 1 1 2 1 2 0 1 2 2 0 0 2 0 0 2 0 1 2 1\n",
      " 1 1 2 2 1 0 1 1 2 0 0 0 0 1 2 2 2 0 2 1 1 0 0 1 2 2 1 1 2 0 2 0 1 1 1 2 0\n",
      " 0 1 2 2 0 1 0 1 1 2 0 0 0 0 1 0 2 0 0 1 1 2 2 0 2 0]\n"
     ]
    }
   ],
   "source": [
    "print (kmeans.labels_)"
   ]
  },
  {
   "cell_type": "code",
   "execution_count": 12,
   "id": "aac99417",
   "metadata": {},
   "outputs": [
    {
     "data": {
      "text/plain": [
       "([], [])"
      ]
     },
     "execution_count": 12,
     "metadata": {},
     "output_type": "execute_result"
    },
    {
     "data": {
      "image/png": "[encoded data removed]",
      "text/plain": [
       "<Figure size 432x288 with 1 Axes>"
      ]
     },
     "metadata": {},
     "output_type": "display_data"
    }
   ],
   "source": [
    "import matplotlib.pyplot as plt\n",
    "%matplotlib inline\n",
    "y_kmeans = kmeans.predict(X)\n",
    "plt.scatter(X[:, 0], X[:, 1], c=y_kmeans)\n",
    "centers = kmeans.cluster_centers_\n",
    "plt.scatter(centers[:, 0], centers[:, 1], color='r', s=100)\n",
    "# Title of the plot\n",
    "plt.title('KMeans')\n",
    "# Remove x-axis ticks\n",
    "plt.xticks(())\n",
    "# Remove y-axis ticks\n",
    "plt.yticks(())\n",
    "# Show the plot\n"
   ]
  },
  {
   "cell_type": "code",
   "execution_count": 13,
   "id": "6145180a",
   "metadata": {},
   "outputs": [],
   "source": [
    "from sklearn.datasets import make_blobs\n",
    "# Import the dendrogram function and the ward clustering function \n",
    "from scipy.cluster.hierarchy import dendrogram, ward\n",
    "X, y = make_blobs(random_state=0, n_samples=12)\n",
    "# Apply the ward clustering to the data array X\n",
    "# The SciPy ward function returns an array that specifies the distances\n",
    "# bridged when performing agglomerative clustering\n",
    "linkage_array = ward(X)"
   ]
  },
  {
   "cell_type": "code",
   "execution_count": 14,
   "id": "9ed9fdb1",
   "metadata": {},
   "outputs": [
    {
     "data": {
      "text/plain": [
       "{'icoord': [[5.0, 5.0, 15.0, 15.0],\n",
       "  [35.0, 35.0, 45.0, 45.0],\n",
       "  [25.0, 25.0, 40.0, 40.0],\n",
       "  [10.0, 10.0, 32.5, 32.5],\n",
       "  [65.0, 65.0, 75.0, 75.0],\n",
       "  [55.0, 55.0, 70.0, 70.0],\n",
       "  [105.0, 105.0, 115.0, 115.0],\n",
       "  [95.0, 95.0, 110.0, 110.0],\n",
       "  [85.0, 85.0, 102.5, 102.5],\n",
       "  [62.5, 62.5, 93.75, 93.75],\n",
       "  [21.25, 21.25, 78.125, 78.125]],\n",
       " 'dcoord': [[0.0, 0.3320945047164902, 0.3320945047164902, 0.0],\n",
       "  [0.0, 0.9268322277319817, 0.9268322277319817, 0.0],\n",
       "  [0.0, 1.6004181164464242, 1.6004181164464242, 0.9268322277319817],\n",
       "  [0.3320945047164902,\n",
       "   2.078157949404743,\n",
       "   2.078157949404743,\n",
       "   1.6004181164464242],\n",
       "  [0.0, 1.1803786988620995, 1.1803786988620995, 0.0],\n",
       "  [0.0, 1.3031157463723073, 1.3031157463723073, 1.1803786988620995],\n",
       "  [0.0, 0.6458019336639491, 0.6458019336639491, 0.0],\n",
       "  [0.0, 1.4440338959892802, 1.4440338959892802, 0.6458019336639491],\n",
       "  [0.0, 2.1598188624745154, 2.1598188624745154, 1.4440338959892802],\n",
       "  [1.3031157463723073,\n",
       "   6.550248535823649,\n",
       "   6.550248535823649,\n",
       "   2.1598188624745154],\n",
       "  [2.078157949404743,\n",
       "   7.924468768378964,\n",
       "   7.924468768378964,\n",
       "   6.550248535823649]],\n",
       " 'ivl': ['1', '4', '3', '2', '8', '5', '0', '11', '10', '7', '6', '9'],\n",
       " 'leaves': [1, 4, 3, 2, 8, 5, 0, 11, 10, 7, 6, 9],\n",
       " 'color_list': ['C1',\n",
       "  'C1',\n",
       "  'C1',\n",
       "  'C1',\n",
       "  'C2',\n",
       "  'C2',\n",
       "  'C3',\n",
       "  'C3',\n",
       "  'C3',\n",
       "  'C0',\n",
       "  'C0'],\n",
       " 'leaves_color_list': ['C1',\n",
       "  'C1',\n",
       "  'C1',\n",
       "  'C1',\n",
       "  'C1',\n",
       "  'C2',\n",
       "  'C2',\n",
       "  'C2',\n",
       "  'C3',\n",
       "  'C3',\n",
       "  'C3',\n",
       "  'C3']}"
      ]
     },
     "execution_count": 14,
     "metadata": {},
     "output_type": "execute_result"
    },
    {
     "data": {
      "image/png": "[encoded data removed]",
      "text/plain": [
       "<Figure size 432x288 with 1 Axes>"
      ]
     },
     "metadata": {
      "needs_background": "light"
     },
     "output_type": "display_data"
    }
   ],
   "source": [
    "dendrogram(linkage_array)"
   ]
  },
  {
   "cell_type": "code",
   "execution_count": 20,
   "id": "9aced6ff",
   "metadata": {},
   "outputs": [
    {
     "data": {
      "text/plain": [
       "Text(0, 0.5, 'Cluster distance')"
      ]
     },
     "execution_count": 20,
     "metadata": {},
     "output_type": "execute_result"
    },
    {
     "data": {
      "image/png": "[encoded data removed]",
      "text/plain": [
       "<Figure size 432x288 with 1 Axes>"
      ]
     },
     "metadata": {
      "needs_background": "light"
     },
     "output_type": "display_data"
    }
   ],
   "source": [
    "from matplotlib import pyplot as plt\n",
    "\n",
    "dendrogram(linkage_array)\n",
    "ax = plt.gca()\n",
    "bounds = ax.get_xbound()\n",
    "ax.plot(bounds, [7.25, 7.25], '--', c='k')\n",
    "ax.plot(bounds, [4, 4], '--', c='k')\n",
    "ax.text(bounds[1], 7.25, ' two clusters', va='center', fontdict={'size': \n",
    "15})\n",
    "ax.text(bounds[1], 4, ' three clusters', va='center', fontdict={'size': \n",
    "15})\n",
    "plt.xlabel(\"Sample index\")\n",
    "plt.ylabel(\"Cluster distance\")\n"
   ]
  },
  {
   "cell_type": "code",
   "execution_count": null,
   "id": "be57dfc8",
   "metadata": {},
   "outputs": [],
   "source": []
  }
 ],
 "metadata": {
  "kernelspec": {
   "display_name": "Python 3 (ipykernel)",
   "language": "python",
   "name": "python3"
  },
  "language_info": {
   "codemirror_mode": {
    "name": "ipython",
    "version": 3
   },
   "file_extension": ".py",
   "mimetype": "text/x-python",
   "name": "python",
   "nbconvert_exporter": "python",
   "pygments_lexer": "ipython3",
   "version": "3.9.7"
  }
 },
 "nbformat": 4,
 "nbformat_minor": 5
}
