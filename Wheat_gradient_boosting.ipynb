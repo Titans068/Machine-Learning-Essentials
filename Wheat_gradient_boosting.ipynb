{
 "cells": [
  {
   "cell_type": "code",
   "execution_count": 28,
   "metadata": {
    "id": "PwdYwXtDIWmi",
    "pycharm": {
     "name": "#%%\n"
    }
   },
   "outputs": [],
   "source": [
    "import numpy as np\n",
    "import pandas as pd\n",
    "import seaborn as sns\n",
    "import requests"
   ]
  },
  {
   "cell_type": "code",
   "execution_count": 2,
   "metadata": {
    "pycharm": {
     "name": "#%%\n"
    }
   },
   "outputs": [],
   "source": [
    "r = requests.get(\"https://raw.githubusercontent.com/jbrownlee/Datasets/master/wheat-seeds.csv\")\n",
    "\n",
    "with open(\"seeds_dataset.csv\", \"wb\") as fopen:\n",
    "    fopen.write(r.content)"
   ]
  },
  {
   "cell_type": "code",
   "execution_count": 3,
   "metadata": {
    "pycharm": {
     "name": "#%%\n"
    }
   },
   "outputs": [
    {
     "data": {
      "text/plain": "         0      1       2      3      4      5      6  7\n0    15.26  14.84  0.8710  5.763  3.312  2.221  5.220  1\n1    14.88  14.57  0.8811  5.554  3.333  1.018  4.956  1\n2    14.29  14.09  0.9050  5.291  3.337  2.699  4.825  1\n3    13.84  13.94  0.8955  5.324  3.379  2.259  4.805  1\n4    16.14  14.99  0.9034  5.658  3.562  1.355  5.175  1\n..     ...    ...     ...    ...    ...    ...    ... ..\n205  12.19  13.20  0.8783  5.137  2.981  3.631  4.870  3\n206  11.23  12.88  0.8511  5.140  2.795  4.325  5.003  3\n207  13.20  13.66  0.8883  5.236  3.232  8.315  5.056  3\n208  11.84  13.21  0.8521  5.175  2.836  3.598  5.044  3\n209  12.30  13.34  0.8684  5.243  2.974  5.637  5.063  3\n\n[210 rows x 8 columns]",
      "text/html": "<div>\n<style scoped>\n    .dataframe tbody tr th:only-of-type {\n        vertical-align: middle;\n    }\n\n    .dataframe tbody tr th {\n        vertical-align: top;\n    }\n\n    .dataframe thead th {\n        text-align: right;\n    }\n</style>\n<table border=\"1\" class=\"dataframe\">\n  <thead>\n    <tr style=\"text-align: right;\">\n      <th></th>\n      <th>0</th>\n      <th>1</th>\n      <th>2</th>\n      <th>3</th>\n      <th>4</th>\n      <th>5</th>\n      <th>6</th>\n      <th>7</th>\n    </tr>\n  </thead>\n  <tbody>\n    <tr>\n      <th>0</th>\n      <td>15.26</td>\n      <td>14.84</td>\n      <td>0.8710</td>\n      <td>5.763</td>\n      <td>3.312</td>\n      <td>2.221</td>\n      <td>5.220</td>\n      <td>1</td>\n    </tr>\n    <tr>\n      <th>1</th>\n      <td>14.88</td>\n      <td>14.57</td>\n      <td>0.8811</td>\n      <td>5.554</td>\n      <td>3.333</td>\n      <td>1.018</td>\n      <td>4.956</td>\n      <td>1</td>\n    </tr>\n    <tr>\n      <th>2</th>\n      <td>14.29</td>\n      <td>14.09</td>\n      <td>0.9050</td>\n      <td>5.291</td>\n      <td>3.337</td>\n      <td>2.699</td>\n      <td>4.825</td>\n      <td>1</td>\n    </tr>\n    <tr>\n      <th>3</th>\n      <td>13.84</td>\n      <td>13.94</td>\n      <td>0.8955</td>\n      <td>5.324</td>\n      <td>3.379</td>\n      <td>2.259</td>\n      <td>4.805</td>\n      <td>1</td>\n    </tr>\n    <tr>\n      <th>4</th>\n      <td>16.14</td>\n      <td>14.99</td>\n      <td>0.9034</td>\n      <td>5.658</td>\n      <td>3.562</td>\n      <td>1.355</td>\n      <td>5.175</td>\n      <td>1</td>\n    </tr>\n    <tr>\n      <th>...</th>\n      <td>...</td>\n      <td>...</td>\n      <td>...</td>\n      <td>...</td>\n      <td>...</td>\n      <td>...</td>\n      <td>...</td>\n      <td>...</td>\n    </tr>\n    <tr>\n      <th>205</th>\n      <td>12.19</td>\n      <td>13.20</td>\n      <td>0.8783</td>\n      <td>5.137</td>\n      <td>2.981</td>\n      <td>3.631</td>\n      <td>4.870</td>\n      <td>3</td>\n    </tr>\n    <tr>\n      <th>206</th>\n      <td>11.23</td>\n      <td>12.88</td>\n      <td>0.8511</td>\n      <td>5.140</td>\n      <td>2.795</td>\n      <td>4.325</td>\n      <td>5.003</td>\n      <td>3</td>\n    </tr>\n    <tr>\n      <th>207</th>\n      <td>13.20</td>\n      <td>13.66</td>\n      <td>0.8883</td>\n      <td>5.236</td>\n      <td>3.232</td>\n      <td>8.315</td>\n      <td>5.056</td>\n      <td>3</td>\n    </tr>\n    <tr>\n      <th>208</th>\n      <td>11.84</td>\n      <td>13.21</td>\n      <td>0.8521</td>\n      <td>5.175</td>\n      <td>2.836</td>\n      <td>3.598</td>\n      <td>5.044</td>\n      <td>3</td>\n    </tr>\n    <tr>\n      <th>209</th>\n      <td>12.30</td>\n      <td>13.34</td>\n      <td>0.8684</td>\n      <td>5.243</td>\n      <td>2.974</td>\n      <td>5.637</td>\n      <td>5.063</td>\n      <td>3</td>\n    </tr>\n  </tbody>\n</table>\n<p>210 rows × 8 columns</p>\n</div>"
     },
     "execution_count": 3,
     "metadata": {},
     "output_type": "execute_result"
    }
   ],
   "source": [
    "df = pd.read_csv(\"seeds_dataset.csv\", header=None)\n",
    "df"
   ]
  },
  {
   "cell_type": "code",
   "execution_count": 4,
   "metadata": {
    "pycharm": {
     "name": "#%%\n"
    }
   },
   "outputs": [
    {
     "data": {
      "text/plain": "Index(['Area', 'Perimeter', 'Compactness', 'KernelLength', 'KernelWidth',\n       'AsymmetryCoef', 'KernelGroove', 'Type'],\n      dtype='object')"
     },
     "execution_count": 4,
     "metadata": {},
     "output_type": "execute_result"
    }
   ],
   "source": [
    "df.columns = [\"Area\", \"Perimeter\", \"Compactness\", \"KernelLength\", \"KernelWidth\", \"AsymmetryCoef\", \"KernelGroove\",\n",
    "              \"Type\"]\n",
    "df.columns"
   ]
  },
  {
   "cell_type": "code",
   "execution_count": 5,
   "metadata": {
    "pycharm": {
     "name": "#%%\n"
    }
   },
   "outputs": [
    {
     "name": "stdout",
     "output_type": "stream",
     "text": [
      "<class 'pandas.core.frame.DataFrame'>\n",
      "RangeIndex: 210 entries, 0 to 209\n",
      "Data columns (total 8 columns):\n",
      " #   Column         Non-Null Count  Dtype  \n",
      "---  ------         --------------  -----  \n",
      " 0   Area           210 non-null    float64\n",
      " 1   Perimeter      210 non-null    float64\n",
      " 2   Compactness    210 non-null    float64\n",
      " 3   KernelLength   210 non-null    float64\n",
      " 4   KernelWidth    210 non-null    float64\n",
      " 5   AsymmetryCoef  210 non-null    float64\n",
      " 6   KernelGroove   210 non-null    float64\n",
      " 7   Type           210 non-null    int64  \n",
      "dtypes: float64(7), int64(1)\n",
      "memory usage: 13.2 KB\n"
     ]
    }
   ],
   "source": [
    "df.info()"
   ]
  },
  {
   "cell_type": "code",
   "execution_count": 6,
   "outputs": [
    {
     "data": {
      "text/plain": "Empty DataFrame\nColumns: [Area, Perimeter, Compactness, KernelLength, KernelWidth, AsymmetryCoef, KernelGroove, Type]\nIndex: []",
      "text/html": "<div>\n<style scoped>\n    .dataframe tbody tr th:only-of-type {\n        vertical-align: middle;\n    }\n\n    .dataframe tbody tr th {\n        vertical-align: top;\n    }\n\n    .dataframe thead th {\n        text-align: right;\n    }\n</style>\n<table border=\"1\" class=\"dataframe\">\n  <thead>\n    <tr style=\"text-align: right;\">\n      <th></th>\n      <th>Area</th>\n      <th>Perimeter</th>\n      <th>Compactness</th>\n      <th>KernelLength</th>\n      <th>KernelWidth</th>\n      <th>AsymmetryCoef</th>\n      <th>KernelGroove</th>\n      <th>Type</th>\n    </tr>\n  </thead>\n  <tbody>\n  </tbody>\n</table>\n</div>"
     },
     "execution_count": 6,
     "metadata": {},
     "output_type": "execute_result"
    }
   ],
   "source": [
    "df[df.duplicated()]"
   ],
   "metadata": {
    "collapsed": false,
    "pycharm": {
     "name": "#%%\n"
    }
   }
  },
  {
   "cell_type": "code",
   "execution_count": 7,
   "metadata": {
    "pycharm": {
     "name": "#%%\n"
    }
   },
   "outputs": [
    {
     "data": {
      "text/plain": "<AxesSubplot:xlabel='Type', ylabel='count'>"
     },
     "execution_count": 7,
     "metadata": {},
     "output_type": "execute_result"
    },
    {
     "data": {
      "text/plain": "<Figure size 640x480 with 1 Axes>",
      "image/png": "[encoded data removed]"
     },
     "metadata": {},
     "output_type": "display_data"
    }
   ],
   "source": [
    "sns.countplot(data=df, x=\"Type\")"
   ]
  },
  {
   "cell_type": "code",
   "execution_count": 8,
   "metadata": {
    "pycharm": {
     "name": "#%%\n"
    }
   },
   "outputs": [
    {
     "data": {
      "text/plain": "<AxesSubplot:>"
     },
     "execution_count": 8,
     "metadata": {},
     "output_type": "execute_result"
    },
    {
     "data": {
      "text/plain": "<Figure size 640x480 with 2 Axes>",
      "image/png": "[encoded data removed]"
     },
     "metadata": {},
     "output_type": "display_data"
    }
   ],
   "source": [
    "sns.heatmap(df.corr())"
   ]
  },
  {
   "cell_type": "code",
   "execution_count": 9,
   "metadata": {
    "pycharm": {
     "name": "#%%\n"
    }
   },
   "outputs": [],
   "source": [
    "from matplotlib import pyplot as plt"
   ]
  },
  {
   "cell_type": "code",
   "execution_count": 10,
   "metadata": {
    "pycharm": {
     "name": "#%%\n"
    }
   },
   "outputs": [
    {
     "data": {
      "text/plain": "<AxesSubplot:>"
     },
     "execution_count": 10,
     "metadata": {},
     "output_type": "execute_result"
    },
    {
     "data": {
      "text/plain": "<Figure size 1500x600 with 1 Axes>",
      "image/png": "[encoded data removed]"
     },
     "metadata": {},
     "output_type": "display_data"
    }
   ],
   "source": [
    "df.plot(kind=\"box\", figsize=(15, 6))"
   ]
  },
  {
   "cell_type": "code",
   "execution_count": 11,
   "metadata": {
    "pycharm": {
     "name": "#%%\n"
    }
   },
   "outputs": [
    {
     "data": {
      "text/plain": "<AxesSubplot:xlabel='AsymmetryCoef'>"
     },
     "execution_count": 11,
     "metadata": {},
     "output_type": "execute_result"
    },
    {
     "data": {
      "text/plain": "<Figure size 640x480 with 1 Axes>",
      "image/png": "[encoded data removed]"
     },
     "metadata": {},
     "output_type": "display_data"
    }
   ],
   "source": [
    "sns.boxplot(data=df, x=\"AsymmetryCoef\")"
   ]
  },
  {
   "cell_type": "code",
   "execution_count": 12,
   "metadata": {
    "pycharm": {
     "name": "#%%\n"
    }
   },
   "outputs": [
    {
     "data": {
      "text/plain": "      Area  Perimeter  Compactness  KernelLength  KernelWidth  AsymmetryCoef  \\\n0    15.26      14.84       0.8710         5.763        3.312          2.221   \n1    14.88      14.57       0.8811         5.554        3.333          1.018   \n2    14.29      14.09       0.9050         5.291        3.337          2.699   \n3    13.84      13.94       0.8955         5.324        3.379          2.259   \n4    16.14      14.99       0.9034         5.658        3.562          1.355   \n..     ...        ...          ...           ...          ...            ...   \n204  12.37      13.47       0.8567         5.204        2.960          3.919   \n205  12.19      13.20       0.8783         5.137        2.981          3.631   \n206  11.23      12.88       0.8511         5.140        2.795          4.325   \n208  11.84      13.21       0.8521         5.175        2.836          3.598   \n209  12.30      13.34       0.8684         5.243        2.974          5.637   \n\n     KernelGroove  Type  \n0           5.220     1  \n1           4.956     1  \n2           4.825     1  \n3           4.805     1  \n4           5.175     1  \n..            ...   ...  \n204         5.001     3  \n205         4.870     3  \n206         5.003     3  \n208         5.044     3  \n209         5.063     3  \n\n[208 rows x 8 columns]",
      "text/html": "<div>\n<style scoped>\n    .dataframe tbody tr th:only-of-type {\n        vertical-align: middle;\n    }\n\n    .dataframe tbody tr th {\n        vertical-align: top;\n    }\n\n    .dataframe thead th {\n        text-align: right;\n    }\n</style>\n<table border=\"1\" class=\"dataframe\">\n  <thead>\n    <tr style=\"text-align: right;\">\n      <th></th>\n      <th>Area</th>\n      <th>Perimeter</th>\n      <th>Compactness</th>\n      <th>KernelLength</th>\n      <th>KernelWidth</th>\n      <th>AsymmetryCoef</th>\n      <th>KernelGroove</th>\n      <th>Type</th>\n    </tr>\n  </thead>\n  <tbody>\n    <tr>\n      <th>0</th>\n      <td>15.26</td>\n      <td>14.84</td>\n      <td>0.8710</td>\n      <td>5.763</td>\n      <td>3.312</td>\n      <td>2.221</td>\n      <td>5.220</td>\n      <td>1</td>\n    </tr>\n    <tr>\n      <th>1</th>\n      <td>14.88</td>\n      <td>14.57</td>\n      <td>0.8811</td>\n      <td>5.554</td>\n      <td>3.333</td>\n      <td>1.018</td>\n      <td>4.956</td>\n      <td>1</td>\n    </tr>\n    <tr>\n      <th>2</th>\n      <td>14.29</td>\n      <td>14.09</td>\n      <td>0.9050</td>\n      <td>5.291</td>\n      <td>3.337</td>\n      <td>2.699</td>\n      <td>4.825</td>\n      <td>1</td>\n    </tr>\n    <tr>\n      <th>3</th>\n      <td>13.84</td>\n      <td>13.94</td>\n      <td>0.8955</td>\n      <td>5.324</td>\n      <td>3.379</td>\n      <td>2.259</td>\n      <td>4.805</td>\n      <td>1</td>\n    </tr>\n    <tr>\n      <th>4</th>\n      <td>16.14</td>\n      <td>14.99</td>\n      <td>0.9034</td>\n      <td>5.658</td>\n      <td>3.562</td>\n      <td>1.355</td>\n      <td>5.175</td>\n      <td>1</td>\n    </tr>\n    <tr>\n      <th>...</th>\n      <td>...</td>\n      <td>...</td>\n      <td>...</td>\n      <td>...</td>\n      <td>...</td>\n      <td>...</td>\n      <td>...</td>\n      <td>...</td>\n    </tr>\n    <tr>\n      <th>204</th>\n      <td>12.37</td>\n      <td>13.47</td>\n      <td>0.8567</td>\n      <td>5.204</td>\n      <td>2.960</td>\n      <td>3.919</td>\n      <td>5.001</td>\n      <td>3</td>\n    </tr>\n    <tr>\n      <th>205</th>\n      <td>12.19</td>\n      <td>13.20</td>\n      <td>0.8783</td>\n      <td>5.137</td>\n      <td>2.981</td>\n      <td>3.631</td>\n      <td>4.870</td>\n      <td>3</td>\n    </tr>\n    <tr>\n      <th>206</th>\n      <td>11.23</td>\n      <td>12.88</td>\n      <td>0.8511</td>\n      <td>5.140</td>\n      <td>2.795</td>\n      <td>4.325</td>\n      <td>5.003</td>\n      <td>3</td>\n    </tr>\n    <tr>\n      <th>208</th>\n      <td>11.84</td>\n      <td>13.21</td>\n      <td>0.8521</td>\n      <td>5.175</td>\n      <td>2.836</td>\n      <td>3.598</td>\n      <td>5.044</td>\n      <td>3</td>\n    </tr>\n    <tr>\n      <th>209</th>\n      <td>12.30</td>\n      <td>13.34</td>\n      <td>0.8684</td>\n      <td>5.243</td>\n      <td>2.974</td>\n      <td>5.637</td>\n      <td>5.063</td>\n      <td>3</td>\n    </tr>\n  </tbody>\n</table>\n<p>208 rows × 8 columns</p>\n</div>"
     },
     "execution_count": 12,
     "metadata": {},
     "output_type": "execute_result"
    }
   ],
   "source": [
    "df = df.loc[df.AsymmetryCoef < 8]\n",
    "df"
   ]
  },
  {
   "cell_type": "code",
   "execution_count": 13,
   "metadata": {
    "pycharm": {
     "name": "#%%\n"
    }
   },
   "outputs": [
    {
     "data": {
      "text/plain": "      Area  Perimeter  Compactness  KernelLength  KernelWidth  AsymmetryCoef  \\\n0    15.26      14.84       0.8710         5.763        3.312          2.221   \n1    14.88      14.57       0.8811         5.554        3.333          1.018   \n2    14.29      14.09       0.9050         5.291        3.337          2.699   \n3    13.84      13.94       0.8955         5.324        3.379          2.259   \n4    16.14      14.99       0.9034         5.658        3.562          1.355   \n..     ...        ...          ...           ...          ...            ...   \n204  12.37      13.47       0.8567         5.204        2.960          3.919   \n205  12.19      13.20       0.8783         5.137        2.981          3.631   \n206  11.23      12.88       0.8511         5.140        2.795          4.325   \n208  11.84      13.21       0.8521         5.175        2.836          3.598   \n209  12.30      13.34       0.8684         5.243        2.974          5.637   \n\n     KernelGroove  \n0           5.220  \n1           4.956  \n2           4.825  \n3           4.805  \n4           5.175  \n..            ...  \n204         5.001  \n205         4.870  \n206         5.003  \n208         5.044  \n209         5.063  \n\n[208 rows x 7 columns]",
      "text/html": "<div>\n<style scoped>\n    .dataframe tbody tr th:only-of-type {\n        vertical-align: middle;\n    }\n\n    .dataframe tbody tr th {\n        vertical-align: top;\n    }\n\n    .dataframe thead th {\n        text-align: right;\n    }\n</style>\n<table border=\"1\" class=\"dataframe\">\n  <thead>\n    <tr style=\"text-align: right;\">\n      <th></th>\n      <th>Area</th>\n      <th>Perimeter</th>\n      <th>Compactness</th>\n      <th>KernelLength</th>\n      <th>KernelWidth</th>\n      <th>AsymmetryCoef</th>\n      <th>KernelGroove</th>\n    </tr>\n  </thead>\n  <tbody>\n    <tr>\n      <th>0</th>\n      <td>15.26</td>\n      <td>14.84</td>\n      <td>0.8710</td>\n      <td>5.763</td>\n      <td>3.312</td>\n      <td>2.221</td>\n      <td>5.220</td>\n    </tr>\n    <tr>\n      <th>1</th>\n      <td>14.88</td>\n      <td>14.57</td>\n      <td>0.8811</td>\n      <td>5.554</td>\n      <td>3.333</td>\n      <td>1.018</td>\n      <td>4.956</td>\n    </tr>\n    <tr>\n      <th>2</th>\n      <td>14.29</td>\n      <td>14.09</td>\n      <td>0.9050</td>\n      <td>5.291</td>\n      <td>3.337</td>\n      <td>2.699</td>\n      <td>4.825</td>\n    </tr>\n    <tr>\n      <th>3</th>\n      <td>13.84</td>\n      <td>13.94</td>\n      <td>0.8955</td>\n      <td>5.324</td>\n      <td>3.379</td>\n      <td>2.259</td>\n      <td>4.805</td>\n    </tr>\n    <tr>\n      <th>4</th>\n      <td>16.14</td>\n      <td>14.99</td>\n      <td>0.9034</td>\n      <td>5.658</td>\n      <td>3.562</td>\n      <td>1.355</td>\n      <td>5.175</td>\n    </tr>\n    <tr>\n      <th>...</th>\n      <td>...</td>\n      <td>...</td>\n      <td>...</td>\n      <td>...</td>\n      <td>...</td>\n      <td>...</td>\n      <td>...</td>\n    </tr>\n    <tr>\n      <th>204</th>\n      <td>12.37</td>\n      <td>13.47</td>\n      <td>0.8567</td>\n      <td>5.204</td>\n      <td>2.960</td>\n      <td>3.919</td>\n      <td>5.001</td>\n    </tr>\n    <tr>\n      <th>205</th>\n      <td>12.19</td>\n      <td>13.20</td>\n      <td>0.8783</td>\n      <td>5.137</td>\n      <td>2.981</td>\n      <td>3.631</td>\n      <td>4.870</td>\n    </tr>\n    <tr>\n      <th>206</th>\n      <td>11.23</td>\n      <td>12.88</td>\n      <td>0.8511</td>\n      <td>5.140</td>\n      <td>2.795</td>\n      <td>4.325</td>\n      <td>5.003</td>\n    </tr>\n    <tr>\n      <th>208</th>\n      <td>11.84</td>\n      <td>13.21</td>\n      <td>0.8521</td>\n      <td>5.175</td>\n      <td>2.836</td>\n      <td>3.598</td>\n      <td>5.044</td>\n    </tr>\n    <tr>\n      <th>209</th>\n      <td>12.30</td>\n      <td>13.34</td>\n      <td>0.8684</td>\n      <td>5.243</td>\n      <td>2.974</td>\n      <td>5.637</td>\n      <td>5.063</td>\n    </tr>\n  </tbody>\n</table>\n<p>208 rows × 7 columns</p>\n</div>"
     },
     "metadata": {},
     "output_type": "display_data"
    },
    {
     "data": {
      "text/plain": "0      1\n1      1\n2      1\n3      1\n4      1\n      ..\n204    3\n205    3\n206    3\n208    3\n209    3\nName: Type, Length: 208, dtype: int64"
     },
     "metadata": {},
     "output_type": "display_data"
    }
   ],
   "source": [
    "x = df.drop(\"Type\", axis=1)\n",
    "y = df.copy().Type\n",
    "\n",
    "display(x)\n",
    "display(y)"
   ]
  },
  {
   "cell_type": "code",
   "execution_count": 14,
   "metadata": {
    "pycharm": {
     "name": "#%%\n"
    }
   },
   "outputs": [],
   "source": [
    "from sklearn.model_selection import train_test_split\n",
    "from sklearn.ensemble import GradientBoostingClassifier\n",
    "from sklearn.metrics import r2_score, confusion_matrix, roc_auc_score, roc_curve, classification_report"
   ]
  },
  {
   "cell_type": "code",
   "execution_count": 15,
   "metadata": {
    "pycharm": {
     "name": "#%%\n"
    }
   },
   "outputs": [
    {
     "data": {
      "text/plain": "      Area  Perimeter  Compactness  KernelLength  KernelWidth  AsymmetryCoef  \\\n86   18.88      16.26       0.8969         6.084        3.764          1.649   \n204  12.37      13.47       0.8567         5.204        2.960          3.919   \n67   14.01      14.29       0.8625         5.609        3.158          2.217   \n82   20.20      16.89       0.8894         6.285        3.864          5.173   \n206  11.23      12.88       0.8511         5.140        2.795          4.325   \n..     ...        ...          ...           ...          ...            ...   \n106  18.85      16.17       0.9056         6.152        3.806          2.843   \n14   13.74      14.05       0.8744         5.482        3.114          2.932   \n92   18.81      16.29       0.8906         6.272        3.693          3.237   \n179  12.21      13.47       0.8453         5.357        2.893          1.661   \n102  19.46      16.50       0.8985         6.113        3.892          4.308   \n\n     KernelGroove  \n86          6.109  \n204         5.001  \n67          5.132  \n82          6.187  \n206         5.003  \n..            ...  \n106         6.200  \n14          4.825  \n92          6.053  \n179         5.178  \n102         6.009  \n\n[166 rows x 7 columns]",
      "text/html": "<div>\n<style scoped>\n    .dataframe tbody tr th:only-of-type {\n        vertical-align: middle;\n    }\n\n    .dataframe tbody tr th {\n        vertical-align: top;\n    }\n\n    .dataframe thead th {\n        text-align: right;\n    }\n</style>\n<table border=\"1\" class=\"dataframe\">\n  <thead>\n    <tr style=\"text-align: right;\">\n      <th></th>\n      <th>Area</th>\n      <th>Perimeter</th>\n      <th>Compactness</th>\n      <th>KernelLength</th>\n      <th>KernelWidth</th>\n      <th>AsymmetryCoef</th>\n      <th>KernelGroove</th>\n    </tr>\n  </thead>\n  <tbody>\n    <tr>\n      <th>86</th>\n      <td>18.88</td>\n      <td>16.26</td>\n      <td>0.8969</td>\n      <td>6.084</td>\n      <td>3.764</td>\n      <td>1.649</td>\n      <td>6.109</td>\n    </tr>\n    <tr>\n      <th>204</th>\n      <td>12.37</td>\n      <td>13.47</td>\n      <td>0.8567</td>\n      <td>5.204</td>\n      <td>2.960</td>\n      <td>3.919</td>\n      <td>5.001</td>\n    </tr>\n    <tr>\n      <th>67</th>\n      <td>14.01</td>\n      <td>14.29</td>\n      <td>0.8625</td>\n      <td>5.609</td>\n      <td>3.158</td>\n      <td>2.217</td>\n      <td>5.132</td>\n    </tr>\n    <tr>\n      <th>82</th>\n      <td>20.20</td>\n      <td>16.89</td>\n      <td>0.8894</td>\n      <td>6.285</td>\n      <td>3.864</td>\n      <td>5.173</td>\n      <td>6.187</td>\n    </tr>\n    <tr>\n      <th>206</th>\n      <td>11.23</td>\n      <td>12.88</td>\n      <td>0.8511</td>\n      <td>5.140</td>\n      <td>2.795</td>\n      <td>4.325</td>\n      <td>5.003</td>\n    </tr>\n    <tr>\n      <th>...</th>\n      <td>...</td>\n      <td>...</td>\n      <td>...</td>\n      <td>...</td>\n      <td>...</td>\n      <td>...</td>\n      <td>...</td>\n    </tr>\n    <tr>\n      <th>106</th>\n      <td>18.85</td>\n      <td>16.17</td>\n      <td>0.9056</td>\n      <td>6.152</td>\n      <td>3.806</td>\n      <td>2.843</td>\n      <td>6.200</td>\n    </tr>\n    <tr>\n      <th>14</th>\n      <td>13.74</td>\n      <td>14.05</td>\n      <td>0.8744</td>\n      <td>5.482</td>\n      <td>3.114</td>\n      <td>2.932</td>\n      <td>4.825</td>\n    </tr>\n    <tr>\n      <th>92</th>\n      <td>18.81</td>\n      <td>16.29</td>\n      <td>0.8906</td>\n      <td>6.272</td>\n      <td>3.693</td>\n      <td>3.237</td>\n      <td>6.053</td>\n    </tr>\n    <tr>\n      <th>179</th>\n      <td>12.21</td>\n      <td>13.47</td>\n      <td>0.8453</td>\n      <td>5.357</td>\n      <td>2.893</td>\n      <td>1.661</td>\n      <td>5.178</td>\n    </tr>\n    <tr>\n      <th>102</th>\n      <td>19.46</td>\n      <td>16.50</td>\n      <td>0.8985</td>\n      <td>6.113</td>\n      <td>3.892</td>\n      <td>4.308</td>\n      <td>6.009</td>\n    </tr>\n  </tbody>\n</table>\n<p>166 rows × 7 columns</p>\n</div>"
     },
     "metadata": {},
     "output_type": "display_data"
    },
    {
     "data": {
      "text/plain": "      Area  Perimeter  Compactness  KernelLength  KernelWidth  AsymmetryCoef  \\\n161  12.02      13.33       0.8503         5.350        2.810         4.2710   \n15   14.59      14.28       0.8993         5.351        3.333         4.1850   \n73   19.11      16.26       0.9081         6.154        3.930         2.9360   \n96   19.31      16.59       0.8815         6.341        3.810         3.4770   \n166  12.44      13.59       0.8462         5.319        2.897         4.9240   \n9    16.44      15.25       0.8880         5.884        3.505         1.9690   \n100  16.41      15.25       0.8866         5.718        3.525         4.2170   \n135  15.38      14.66       0.8990         5.477        3.465         3.6000   \n18   14.70      14.21       0.9153         5.205        3.466         1.7670   \n148  12.70      13.71       0.8491         5.386        2.911         3.2600   \n171  11.55      13.10       0.8455         5.167        2.845         6.7150   \n30   13.16      13.82       0.8662         5.454        2.975         0.8551   \n155  11.19      13.05       0.8253         5.250        2.675         5.8130   \n180  11.41      12.95       0.8560         5.090        2.775         4.9570   \n125  18.75      16.18       0.8999         6.111        3.869         4.1880   \n197  13.37      13.78       0.8849         5.320        3.128         4.6700   \n164  11.14      12.79       0.8558         5.011        2.794         6.3880   \n190  10.93      12.80       0.8390         5.046        2.717         5.3980   \n84   19.51      16.71       0.8780         6.366        3.801         2.9620   \n75   16.77      15.62       0.8638         5.927        3.438         4.9200   \n124  15.99      14.89       0.9064         5.363        3.582         3.3360   \n170  11.02      13.00       0.8189         5.325        2.701         6.7350   \n104  18.95      16.42       0.8829         6.248        3.755         3.3680   \n101  17.99      15.86       0.8992         5.890        3.694         2.0680   \n69   12.73      13.75       0.8458         5.412        2.882         3.5330   \n25   16.19      15.16       0.8849         5.833        3.421         0.9030   \n95   16.87      15.65       0.8648         6.139        3.463         3.6960   \n16   13.99      13.83       0.9183         5.119        3.383         5.2340   \n141  13.32      13.94       0.8613         5.541        3.073         7.0350   \n185  11.56      13.31       0.8198         5.363        2.683         4.0620   \n154  11.36      13.05       0.8382         5.175        2.755         4.0480   \n68   14.37      14.39       0.8726         5.569        3.153         1.4640   \n66   14.34      14.37       0.8726         5.630        3.190         1.3130   \n120  20.24      16.91       0.8897         6.315        3.962         5.9010   \n147  12.49      13.46       0.8658         5.267        2.967         4.4210   \n98   18.17      16.26       0.8637         6.271        3.512         2.8530   \n138  15.60      15.11       0.8580         5.832        3.286         2.7250   \n167  12.15      13.45       0.8443         5.417        2.837         3.6380   \n45   13.80      14.04       0.8794         5.376        3.155         1.5600   \n113  19.14      16.61       0.8722         6.259        3.737         6.6820   \n65   12.88      13.50       0.8879         5.139        3.119         2.3520   \n178  11.48      13.05       0.8473         5.180        2.758         5.8760   \n\n     KernelGroove  \n161         5.308  \n15          4.781  \n73          6.079  \n96          6.238  \n166         5.270  \n9           5.533  \n100         5.618  \n135         5.439  \n18          4.649  \n148         5.316  \n171         4.956  \n30          5.056  \n155         5.219  \n180         4.825  \n125         5.992  \n197         5.091  \n164         5.049  \n190         5.045  \n84          6.185  \n75          5.795  \n124         5.144  \n170         5.163  \n104         6.148  \n101         5.837  \n69          5.067  \n25          5.307  \n95          5.967  \n16          4.781  \n141         5.440  \n185         5.182  \n154         5.263  \n68          5.300  \n66          5.150  \n120         6.188  \n147         5.002  \n98          6.273  \n138         5.752  \n167         5.338  \n45          4.961  \n113         6.053  \n65          4.607  \n178         5.002  ",
      "text/html": "<div>\n<style scoped>\n    .dataframe tbody tr th:only-of-type {\n        vertical-align: middle;\n    }\n\n    .dataframe tbody tr th {\n        vertical-align: top;\n    }\n\n    .dataframe thead th {\n        text-align: right;\n    }\n</style>\n<table border=\"1\" class=\"dataframe\">\n  <thead>\n    <tr style=\"text-align: right;\">\n      <th></th>\n      <th>Area</th>\n      <th>Perimeter</th>\n      <th>Compactness</th>\n      <th>KernelLength</th>\n      <th>KernelWidth</th>\n      <th>AsymmetryCoef</th>\n      <th>KernelGroove</th>\n    </tr>\n  </thead>\n  <tbody>\n    <tr>\n      <th>161</th>\n      <td>12.02</td>\n      <td>13.33</td>\n      <td>0.8503</td>\n      <td>5.350</td>\n      <td>2.810</td>\n      <td>4.2710</td>\n      <td>5.308</td>\n    </tr>\n    <tr>\n      <th>15</th>\n      <td>14.59</td>\n      <td>14.28</td>\n      <td>0.8993</td>\n      <td>5.351</td>\n      <td>3.333</td>\n      <td>4.1850</td>\n      <td>4.781</td>\n    </tr>\n    <tr>\n      <th>73</th>\n      <td>19.11</td>\n      <td>16.26</td>\n      <td>0.9081</td>\n      <td>6.154</td>\n      <td>3.930</td>\n      <td>2.9360</td>\n      <td>6.079</td>\n    </tr>\n    <tr>\n      <th>96</th>\n      <td>19.31</td>\n      <td>16.59</td>\n      <td>0.8815</td>\n      <td>6.341</td>\n      <td>3.810</td>\n      <td>3.4770</td>\n      <td>6.238</td>\n    </tr>\n    <tr>\n      <th>166</th>\n      <td>12.44</td>\n      <td>13.59</td>\n      <td>0.8462</td>\n      <td>5.319</td>\n      <td>2.897</td>\n      <td>4.9240</td>\n      <td>5.270</td>\n    </tr>\n    <tr>\n      <th>9</th>\n      <td>16.44</td>\n      <td>15.25</td>\n      <td>0.8880</td>\n      <td>5.884</td>\n      <td>3.505</td>\n      <td>1.9690</td>\n      <td>5.533</td>\n    </tr>\n    <tr>\n      <th>100</th>\n      <td>16.41</td>\n      <td>15.25</td>\n      <td>0.8866</td>\n      <td>5.718</td>\n      <td>3.525</td>\n      <td>4.2170</td>\n      <td>5.618</td>\n    </tr>\n    <tr>\n      <th>135</th>\n      <td>15.38</td>\n      <td>14.66</td>\n      <td>0.8990</td>\n      <td>5.477</td>\n      <td>3.465</td>\n      <td>3.6000</td>\n      <td>5.439</td>\n    </tr>\n    <tr>\n      <th>18</th>\n      <td>14.70</td>\n      <td>14.21</td>\n      <td>0.9153</td>\n      <td>5.205</td>\n      <td>3.466</td>\n      <td>1.7670</td>\n      <td>4.649</td>\n    </tr>\n    <tr>\n      <th>148</th>\n      <td>12.70</td>\n      <td>13.71</td>\n      <td>0.8491</td>\n      <td>5.386</td>\n      <td>2.911</td>\n      <td>3.2600</td>\n      <td>5.316</td>\n    </tr>\n    <tr>\n      <th>171</th>\n      <td>11.55</td>\n      <td>13.10</td>\n      <td>0.8455</td>\n      <td>5.167</td>\n      <td>2.845</td>\n      <td>6.7150</td>\n      <td>4.956</td>\n    </tr>\n    <tr>\n      <th>30</th>\n      <td>13.16</td>\n      <td>13.82</td>\n      <td>0.8662</td>\n      <td>5.454</td>\n      <td>2.975</td>\n      <td>0.8551</td>\n      <td>5.056</td>\n    </tr>\n    <tr>\n      <th>155</th>\n      <td>11.19</td>\n      <td>13.05</td>\n      <td>0.8253</td>\n      <td>5.250</td>\n      <td>2.675</td>\n      <td>5.8130</td>\n      <td>5.219</td>\n    </tr>\n    <tr>\n      <th>180</th>\n      <td>11.41</td>\n      <td>12.95</td>\n      <td>0.8560</td>\n      <td>5.090</td>\n      <td>2.775</td>\n      <td>4.9570</td>\n      <td>4.825</td>\n    </tr>\n    <tr>\n      <th>125</th>\n      <td>18.75</td>\n      <td>16.18</td>\n      <td>0.8999</td>\n      <td>6.111</td>\n      <td>3.869</td>\n      <td>4.1880</td>\n      <td>5.992</td>\n    </tr>\n    <tr>\n      <th>197</th>\n      <td>13.37</td>\n      <td>13.78</td>\n      <td>0.8849</td>\n      <td>5.320</td>\n      <td>3.128</td>\n      <td>4.6700</td>\n      <td>5.091</td>\n    </tr>\n    <tr>\n      <th>164</th>\n      <td>11.14</td>\n      <td>12.79</td>\n      <td>0.8558</td>\n      <td>5.011</td>\n      <td>2.794</td>\n      <td>6.3880</td>\n      <td>5.049</td>\n    </tr>\n    <tr>\n      <th>190</th>\n      <td>10.93</td>\n      <td>12.80</td>\n      <td>0.8390</td>\n      <td>5.046</td>\n      <td>2.717</td>\n      <td>5.3980</td>\n      <td>5.045</td>\n    </tr>\n    <tr>\n      <th>84</th>\n      <td>19.51</td>\n      <td>16.71</td>\n      <td>0.8780</td>\n      <td>6.366</td>\n      <td>3.801</td>\n      <td>2.9620</td>\n      <td>6.185</td>\n    </tr>\n    <tr>\n      <th>75</th>\n      <td>16.77</td>\n      <td>15.62</td>\n      <td>0.8638</td>\n      <td>5.927</td>\n      <td>3.438</td>\n      <td>4.9200</td>\n      <td>5.795</td>\n    </tr>\n    <tr>\n      <th>124</th>\n      <td>15.99</td>\n      <td>14.89</td>\n      <td>0.9064</td>\n      <td>5.363</td>\n      <td>3.582</td>\n      <td>3.3360</td>\n      <td>5.144</td>\n    </tr>\n    <tr>\n      <th>170</th>\n      <td>11.02</td>\n      <td>13.00</td>\n      <td>0.8189</td>\n      <td>5.325</td>\n      <td>2.701</td>\n      <td>6.7350</td>\n      <td>5.163</td>\n    </tr>\n    <tr>\n      <th>104</th>\n      <td>18.95</td>\n      <td>16.42</td>\n      <td>0.8829</td>\n      <td>6.248</td>\n      <td>3.755</td>\n      <td>3.3680</td>\n      <td>6.148</td>\n    </tr>\n    <tr>\n      <th>101</th>\n      <td>17.99</td>\n      <td>15.86</td>\n      <td>0.8992</td>\n      <td>5.890</td>\n      <td>3.694</td>\n      <td>2.0680</td>\n      <td>5.837</td>\n    </tr>\n    <tr>\n      <th>69</th>\n      <td>12.73</td>\n      <td>13.75</td>\n      <td>0.8458</td>\n      <td>5.412</td>\n      <td>2.882</td>\n      <td>3.5330</td>\n      <td>5.067</td>\n    </tr>\n    <tr>\n      <th>25</th>\n      <td>16.19</td>\n      <td>15.16</td>\n      <td>0.8849</td>\n      <td>5.833</td>\n      <td>3.421</td>\n      <td>0.9030</td>\n      <td>5.307</td>\n    </tr>\n    <tr>\n      <th>95</th>\n      <td>16.87</td>\n      <td>15.65</td>\n      <td>0.8648</td>\n      <td>6.139</td>\n      <td>3.463</td>\n      <td>3.6960</td>\n      <td>5.967</td>\n    </tr>\n    <tr>\n      <th>16</th>\n      <td>13.99</td>\n      <td>13.83</td>\n      <td>0.9183</td>\n      <td>5.119</td>\n      <td>3.383</td>\n      <td>5.2340</td>\n      <td>4.781</td>\n    </tr>\n    <tr>\n      <th>141</th>\n      <td>13.32</td>\n      <td>13.94</td>\n      <td>0.8613</td>\n      <td>5.541</td>\n      <td>3.073</td>\n      <td>7.0350</td>\n      <td>5.440</td>\n    </tr>\n    <tr>\n      <th>185</th>\n      <td>11.56</td>\n      <td>13.31</td>\n      <td>0.8198</td>\n      <td>5.363</td>\n      <td>2.683</td>\n      <td>4.0620</td>\n      <td>5.182</td>\n    </tr>\n    <tr>\n      <th>154</th>\n      <td>11.36</td>\n      <td>13.05</td>\n      <td>0.8382</td>\n      <td>5.175</td>\n      <td>2.755</td>\n      <td>4.0480</td>\n      <td>5.263</td>\n    </tr>\n    <tr>\n      <th>68</th>\n      <td>14.37</td>\n      <td>14.39</td>\n      <td>0.8726</td>\n      <td>5.569</td>\n      <td>3.153</td>\n      <td>1.4640</td>\n      <td>5.300</td>\n    </tr>\n    <tr>\n      <th>66</th>\n      <td>14.34</td>\n      <td>14.37</td>\n      <td>0.8726</td>\n      <td>5.630</td>\n      <td>3.190</td>\n      <td>1.3130</td>\n      <td>5.150</td>\n    </tr>\n    <tr>\n      <th>120</th>\n      <td>20.24</td>\n      <td>16.91</td>\n      <td>0.8897</td>\n      <td>6.315</td>\n      <td>3.962</td>\n      <td>5.9010</td>\n      <td>6.188</td>\n    </tr>\n    <tr>\n      <th>147</th>\n      <td>12.49</td>\n      <td>13.46</td>\n      <td>0.8658</td>\n      <td>5.267</td>\n      <td>2.967</td>\n      <td>4.4210</td>\n      <td>5.002</td>\n    </tr>\n    <tr>\n      <th>98</th>\n      <td>18.17</td>\n      <td>16.26</td>\n      <td>0.8637</td>\n      <td>6.271</td>\n      <td>3.512</td>\n      <td>2.8530</td>\n      <td>6.273</td>\n    </tr>\n    <tr>\n      <th>138</th>\n      <td>15.60</td>\n      <td>15.11</td>\n      <td>0.8580</td>\n      <td>5.832</td>\n      <td>3.286</td>\n      <td>2.7250</td>\n      <td>5.752</td>\n    </tr>\n    <tr>\n      <th>167</th>\n      <td>12.15</td>\n      <td>13.45</td>\n      <td>0.8443</td>\n      <td>5.417</td>\n      <td>2.837</td>\n      <td>3.6380</td>\n      <td>5.338</td>\n    </tr>\n    <tr>\n      <th>45</th>\n      <td>13.80</td>\n      <td>14.04</td>\n      <td>0.8794</td>\n      <td>5.376</td>\n      <td>3.155</td>\n      <td>1.5600</td>\n      <td>4.961</td>\n    </tr>\n    <tr>\n      <th>113</th>\n      <td>19.14</td>\n      <td>16.61</td>\n      <td>0.8722</td>\n      <td>6.259</td>\n      <td>3.737</td>\n      <td>6.6820</td>\n      <td>6.053</td>\n    </tr>\n    <tr>\n      <th>65</th>\n      <td>12.88</td>\n      <td>13.50</td>\n      <td>0.8879</td>\n      <td>5.139</td>\n      <td>3.119</td>\n      <td>2.3520</td>\n      <td>4.607</td>\n    </tr>\n    <tr>\n      <th>178</th>\n      <td>11.48</td>\n      <td>13.05</td>\n      <td>0.8473</td>\n      <td>5.180</td>\n      <td>2.758</td>\n      <td>5.8760</td>\n      <td>5.002</td>\n    </tr>\n  </tbody>\n</table>\n</div>"
     },
     "metadata": {},
     "output_type": "display_data"
    },
    {
     "data": {
      "text/plain": "86     2\n204    3\n67     1\n82     2\n206    3\n      ..\n106    2\n14     1\n92     2\n179    3\n102    2\nName: Type, Length: 166, dtype: int64"
     },
     "metadata": {},
     "output_type": "display_data"
    },
    {
     "data": {
      "text/plain": "161    3\n15     1\n73     2\n96     2\n166    3\n9      1\n100    2\n135    2\n18     1\n148    3\n171    3\n30     1\n155    3\n180    3\n125    2\n197    3\n164    3\n190    3\n84     2\n75     2\n124    2\n170    3\n104    2\n101    2\n69     1\n25     1\n95     2\n16     1\n141    3\n185    3\n154    3\n68     1\n66     1\n120    2\n147    3\n98     2\n138    2\n167    3\n45     1\n113    2\n65     1\n178    3\nName: Type, dtype: int64"
     },
     "metadata": {},
     "output_type": "display_data"
    }
   ],
   "source": [
    "x_train, x_test, y_train, y_test = train_test_split(x, y, test_size=.2, random_state=42)\n",
    "display(x_train)\n",
    "display(x_test)\n",
    "display(y_train)\n",
    "display(y_test)"
   ]
  },
  {
   "cell_type": "code",
   "execution_count": 16,
   "metadata": {
    "pycharm": {
     "name": "#%%\n"
    }
   },
   "outputs": [
    {
     "data": {
      "text/plain": "GradientBoostingClassifier(learning_rate=0.06, max_depth=4, min_samples_leaf=45,\n                           min_samples_split=35, n_estimators=400,\n                           subsample=0.7)"
     },
     "execution_count": 16,
     "metadata": {},
     "output_type": "execute_result"
    }
   ],
   "source": [
    "clf = GradientBoostingClassifier(max_depth=4, min_samples_split=35, min_samples_leaf=45, subsample=.7,\n",
    "                                 learning_rate=.06, n_estimators=400)\n",
    "clf"
   ]
  },
  {
   "cell_type": "code",
   "execution_count": 17,
   "metadata": {
    "pycharm": {
     "name": "#%%\n"
    }
   },
   "outputs": [
    {
     "data": {
      "text/plain": "GradientBoostingClassifier(learning_rate=0.06, max_depth=4, min_samples_leaf=45,\n                           min_samples_split=35, n_estimators=400,\n                           subsample=0.7)"
     },
     "execution_count": 17,
     "metadata": {},
     "output_type": "execute_result"
    }
   ],
   "source": [
    "clf.fit(x_train, y_train)"
   ]
  },
  {
   "cell_type": "code",
   "execution_count": 18,
   "metadata": {
    "pycharm": {
     "name": "#%%\n"
    }
   },
   "outputs": [
    {
     "name": "stdout",
     "output_type": "stream",
     "text": [
      "x - y score: 0.9759615385\n",
      "x training - y training score: 0.9939759036\n",
      "x testing - y testing score: 0.9047619048\n"
     ]
    }
   ],
   "source": [
    "print(\"x - y score: %.10f\\nx training - y training score: %.10f\\nx testing - y testing score: %.10f\" % (\n",
    "    clf.score(x, y), clf.score(x_train, y_train), clf.score(x_test, y_test)))"
   ]
  },
  {
   "cell_type": "code",
   "execution_count": 19,
   "metadata": {
    "pycharm": {
     "name": "#%%\n"
    }
   },
   "outputs": [
    {
     "data": {
      "text/plain": "array([3, 1, 2, 2, 3, 2, 2, 1, 1, 3, 3, 1, 3, 3, 2, 3, 3, 3, 2, 2, 1, 3,\n       2, 2, 3, 1, 2, 1, 3, 3, 3, 1, 1, 2, 3, 2, 2, 3, 1, 2, 1, 3],\n      dtype=int64)"
     },
     "execution_count": 19,
     "metadata": {},
     "output_type": "execute_result"
    }
   ],
   "source": [
    "y_pred = clf.predict(x_test)\n",
    "y_pred"
   ]
  },
  {
   "cell_type": "code",
   "execution_count": 20,
   "metadata": {
    "pycharm": {
     "name": "#%%\n"
    }
   },
   "outputs": [
    {
     "data": {
      "text/plain": "     actual  predicted\n161       3          3\n15        1          1\n73        2          2\n96        2          2\n166       3          3\n9         1          2\n100       2          2\n135       2          1\n18        1          1\n148       3          3\n171       3          3\n30        1          1\n155       3          3\n180       3          3\n125       2          2\n197       3          3\n164       3          3\n190       3          3\n84        2          2\n75        2          2\n124       2          1\n170       3          3\n104       2          2\n101       2          2\n69        1          3\n25        1          1\n95        2          2\n16        1          1\n141       3          3\n185       3          3\n154       3          3\n68        1          1\n66        1          1\n120       2          2\n147       3          3\n98        2          2\n138       2          2\n167       3          3\n45        1          1\n113       2          2\n65        1          1\n178       3          3",
      "text/html": "<div>\n<style scoped>\n    .dataframe tbody tr th:only-of-type {\n        vertical-align: middle;\n    }\n\n    .dataframe tbody tr th {\n        vertical-align: top;\n    }\n\n    .dataframe thead th {\n        text-align: right;\n    }\n</style>\n<table border=\"1\" class=\"dataframe\">\n  <thead>\n    <tr style=\"text-align: right;\">\n      <th></th>\n      <th>actual</th>\n      <th>predicted</th>\n    </tr>\n  </thead>\n  <tbody>\n    <tr>\n      <th>161</th>\n      <td>3</td>\n      <td>3</td>\n    </tr>\n    <tr>\n      <th>15</th>\n      <td>1</td>\n      <td>1</td>\n    </tr>\n    <tr>\n      <th>73</th>\n      <td>2</td>\n      <td>2</td>\n    </tr>\n    <tr>\n      <th>96</th>\n      <td>2</td>\n      <td>2</td>\n    </tr>\n    <tr>\n      <th>166</th>\n      <td>3</td>\n      <td>3</td>\n    </tr>\n    <tr>\n      <th>9</th>\n      <td>1</td>\n      <td>2</td>\n    </tr>\n    <tr>\n      <th>100</th>\n      <td>2</td>\n      <td>2</td>\n    </tr>\n    <tr>\n      <th>135</th>\n      <td>2</td>\n      <td>1</td>\n    </tr>\n    <tr>\n      <th>18</th>\n      <td>1</td>\n      <td>1</td>\n    </tr>\n    <tr>\n      <th>148</th>\n      <td>3</td>\n      <td>3</td>\n    </tr>\n    <tr>\n      <th>171</th>\n      <td>3</td>\n      <td>3</td>\n    </tr>\n    <tr>\n      <th>30</th>\n      <td>1</td>\n      <td>1</td>\n    </tr>\n    <tr>\n      <th>155</th>\n      <td>3</td>\n      <td>3</td>\n    </tr>\n    <tr>\n      <th>180</th>\n      <td>3</td>\n      <td>3</td>\n    </tr>\n    <tr>\n      <th>125</th>\n      <td>2</td>\n      <td>2</td>\n    </tr>\n    <tr>\n      <th>197</th>\n      <td>3</td>\n      <td>3</td>\n    </tr>\n    <tr>\n      <th>164</th>\n      <td>3</td>\n      <td>3</td>\n    </tr>\n    <tr>\n      <th>190</th>\n      <td>3</td>\n      <td>3</td>\n    </tr>\n    <tr>\n      <th>84</th>\n      <td>2</td>\n      <td>2</td>\n    </tr>\n    <tr>\n      <th>75</th>\n      <td>2</td>\n      <td>2</td>\n    </tr>\n    <tr>\n      <th>124</th>\n      <td>2</td>\n      <td>1</td>\n    </tr>\n    <tr>\n      <th>170</th>\n      <td>3</td>\n      <td>3</td>\n    </tr>\n    <tr>\n      <th>104</th>\n      <td>2</td>\n      <td>2</td>\n    </tr>\n    <tr>\n      <th>101</th>\n      <td>2</td>\n      <td>2</td>\n    </tr>\n    <tr>\n      <th>69</th>\n      <td>1</td>\n      <td>3</td>\n    </tr>\n    <tr>\n      <th>25</th>\n      <td>1</td>\n      <td>1</td>\n    </tr>\n    <tr>\n      <th>95</th>\n      <td>2</td>\n      <td>2</td>\n    </tr>\n    <tr>\n      <th>16</th>\n      <td>1</td>\n      <td>1</td>\n    </tr>\n    <tr>\n      <th>141</th>\n      <td>3</td>\n      <td>3</td>\n    </tr>\n    <tr>\n      <th>185</th>\n      <td>3</td>\n      <td>3</td>\n    </tr>\n    <tr>\n      <th>154</th>\n      <td>3</td>\n      <td>3</td>\n    </tr>\n    <tr>\n      <th>68</th>\n      <td>1</td>\n      <td>1</td>\n    </tr>\n    <tr>\n      <th>66</th>\n      <td>1</td>\n      <td>1</td>\n    </tr>\n    <tr>\n      <th>120</th>\n      <td>2</td>\n      <td>2</td>\n    </tr>\n    <tr>\n      <th>147</th>\n      <td>3</td>\n      <td>3</td>\n    </tr>\n    <tr>\n      <th>98</th>\n      <td>2</td>\n      <td>2</td>\n    </tr>\n    <tr>\n      <th>138</th>\n      <td>2</td>\n      <td>2</td>\n    </tr>\n    <tr>\n      <th>167</th>\n      <td>3</td>\n      <td>3</td>\n    </tr>\n    <tr>\n      <th>45</th>\n      <td>1</td>\n      <td>1</td>\n    </tr>\n    <tr>\n      <th>113</th>\n      <td>2</td>\n      <td>2</td>\n    </tr>\n    <tr>\n      <th>65</th>\n      <td>1</td>\n      <td>1</td>\n    </tr>\n    <tr>\n      <th>178</th>\n      <td>3</td>\n      <td>3</td>\n    </tr>\n  </tbody>\n</table>\n</div>"
     },
     "execution_count": 20,
     "metadata": {},
     "output_type": "execute_result"
    }
   ],
   "source": [
    "pd.DataFrame({\"actual\": y_test, \"predicted\": y_pred})"
   ]
  },
  {
   "cell_type": "code",
   "execution_count": 21,
   "metadata": {
    "pycharm": {
     "name": "#%%\n"
    }
   },
   "outputs": [],
   "source": [
    "from sklearn.metrics import r2_score, confusion_matrix, classification_report, roc_auc_score"
   ]
  },
  {
   "cell_type": "code",
   "execution_count": 22,
   "metadata": {
    "pycharm": {
     "name": "#%%\n"
    }
   },
   "outputs": [
    {
     "data": {
      "text/plain": "0.7348963029756537"
     },
     "execution_count": 22,
     "metadata": {},
     "output_type": "execute_result"
    }
   ],
   "source": [
    "r2_score(y_test, y_pred)"
   ]
  },
  {
   "cell_type": "code",
   "execution_count": 23,
   "metadata": {
    "pycharm": {
     "name": "#%%\n"
    }
   },
   "outputs": [
    {
     "data": {
      "text/plain": "<AxesSubplot:>"
     },
     "execution_count": 23,
     "metadata": {},
     "output_type": "execute_result"
    },
    {
     "data": {
      "text/plain": "<Figure size 640x480 with 2 Axes>",
      "image/png": "[encoded data removed]"
     },
     "metadata": {},
     "output_type": "display_data"
    }
   ],
   "source": [
    "sns.heatmap(confusion_matrix(y_test, y_pred), annot=True, fmt='d', cmap=\"Reds\")"
   ]
  },
  {
   "cell_type": "code",
   "execution_count": 24,
   "metadata": {
    "pycharm": {
     "name": "#%%\n"
    }
   },
   "outputs": [
    {
     "data": {
      "text/plain": "array([[1.35640477e-03, 2.79534246e-06, 9.98640800e-01],\n       [9.88320870e-01, 5.20689573e-05, 1.16270609e-02],\n       [4.95204539e-02, 9.50383660e-01, 9.58858153e-05],\n       [8.14249738e-03, 9.91637941e-01, 2.19561300e-04],\n       [1.28736528e-03, 2.41720930e-06, 9.98710218e-01],\n       [9.48354114e-02, 9.05000126e-01, 1.64462549e-04],\n       [2.74610128e-02, 9.69387378e-01, 3.15160899e-03],\n       [9.75487006e-01, 4.06566050e-03, 2.04473334e-02],\n       [9.99784663e-01, 1.16046699e-05, 2.03732509e-04],\n       [2.22367165e-02, 7.61744159e-05, 9.77687109e-01],\n       [1.32941059e-02, 7.99595442e-06, 9.86697898e-01],\n       [9.92779468e-01, 2.89463671e-05, 7.19158528e-03],\n       [1.63496836e-03, 2.41636799e-06, 9.98362615e-01],\n       [1.32941059e-02, 7.99595442e-06, 9.86697898e-01],\n       [7.34259443e-03, 9.91787893e-01, 8.69513013e-04],\n       [1.24858109e-01, 1.42854963e-05, 8.75127605e-01],\n       [1.32941059e-02, 7.99595442e-06, 9.86697898e-01],\n       [1.32941059e-02, 7.99595442e-06, 9.86697898e-01],\n       [3.24072290e-02, 9.67523660e-01, 6.91112997e-05],\n       [2.22595817e-03, 9.97234539e-01, 5.39503167e-04],\n       [9.87748203e-01, 8.74124546e-03, 3.51055196e-03],\n       [4.31701125e-03, 3.77679201e-06, 9.95679212e-01],\n       [1.21376919e-02, 9.87755116e-01, 1.07192005e-04],\n       [3.84801474e-02, 9.61442486e-01, 7.73666377e-05],\n       [2.24126129e-01, 8.53513232e-05, 7.75788520e-01],\n       [9.48098723e-01, 5.11825297e-02, 7.18746892e-04],\n       [1.47130369e-03, 9.98377241e-01, 1.51455446e-04],\n       [9.46192393e-01, 5.33738504e-05, 5.37542331e-02],\n       [1.09856090e-01, 6.91717216e-04, 8.89452193e-01],\n       [3.75508259e-03, 5.37844862e-06, 9.96239539e-01],\n       [2.95806734e-03, 5.38275149e-06, 9.97036550e-01],\n       [9.99733712e-01, 3.97019288e-06, 2.62317355e-04],\n       [9.99982370e-01, 1.50423258e-06, 1.61256600e-05],\n       [7.68681591e-03, 9.91299083e-01, 1.01410069e-03],\n       [2.79738973e-02, 1.35101593e-05, 9.72012593e-01],\n       [1.03808365e-02, 9.89578672e-01, 4.04915573e-05],\n       [1.27653968e-02, 9.87188386e-01, 4.62170567e-05],\n       [1.03459905e-02, 5.73199498e-05, 9.89596690e-01],\n       [9.96121517e-01, 1.75222165e-05, 3.86096040e-03],\n       [1.53478443e-02, 9.84440844e-01, 2.11312241e-04],\n       [5.91132871e-01, 1.87973427e-05, 4.08848331e-01],\n       [1.32941059e-02, 7.99595442e-06, 9.86697898e-01]])"
     },
     "execution_count": 24,
     "metadata": {},
     "output_type": "execute_result"
    }
   ],
   "source": [
    "y_proba = clf.predict_proba(x_test)\n",
    "y_proba"
   ]
  },
  {
   "cell_type": "code",
   "execution_count": 25,
   "metadata": {
    "pycharm": {
     "name": "#%%\n"
    }
   },
   "outputs": [
    {
     "name": "stdout",
     "output_type": "stream",
     "text": [
      "              precision    recall  f1-score   support\n",
      "\n",
      "           1       0.82      0.82      0.82        11\n",
      "           2       0.93      0.87      0.90        15\n",
      "           3       0.94      1.00      0.97        16\n",
      "\n",
      "    accuracy                           0.90        42\n",
      "   macro avg       0.90      0.89      0.89        42\n",
      "weighted avg       0.90      0.90      0.90        42\n",
      "\n"
     ]
    }
   ],
   "source": [
    "print(classification_report(y_test, y_pred))"
   ]
  },
  {
   "cell_type": "code",
   "execution_count": 26,
   "outputs": [
    {
     "data": {
      "text/plain": "array([[ 9,  1,  1],\n       [ 2, 13,  0],\n       [ 0,  0, 16]], dtype=int64)"
     },
     "execution_count": 26,
     "metadata": {},
     "output_type": "execute_result"
    }
   ],
   "source": [
    "cm = confusion_matrix(y_test, y_pred)\n",
    "cm"
   ],
   "metadata": {
    "collapsed": false,
    "pycharm": {
     "name": "#%%\n"
    }
   }
  },
  {
   "cell_type": "code",
   "execution_count": 29,
   "outputs": [
    {
     "data": {
      "text/plain": "array([2, 1, 1], dtype=int64)"
     },
     "execution_count": 29,
     "metadata": {},
     "output_type": "execute_result"
    }
   ],
   "source": [
    "FP = cm.sum(axis=0) - np.diag(cm)\n",
    "FP"
   ],
   "metadata": {
    "collapsed": false,
    "pycharm": {
     "name": "#%%\n"
    }
   }
  },
  {
   "cell_type": "code",
   "execution_count": 30,
   "outputs": [
    {
     "data": {
      "text/plain": "array([2, 2, 0], dtype=int64)"
     },
     "execution_count": 30,
     "metadata": {},
     "output_type": "execute_result"
    }
   ],
   "source": [
    "FN = cm.sum(axis=1) - np.diag(cm)\n",
    "FN"
   ],
   "metadata": {
    "collapsed": false,
    "pycharm": {
     "name": "#%%\n"
    }
   }
  },
  {
   "cell_type": "code",
   "execution_count": 31,
   "outputs": [
    {
     "data": {
      "text/plain": "array([ 9, 13, 16], dtype=int64)"
     },
     "execution_count": 31,
     "metadata": {},
     "output_type": "execute_result"
    }
   ],
   "source": [
    "TP = np.diag(cm)\n",
    "TP"
   ],
   "metadata": {
    "collapsed": false,
    "pycharm": {
     "name": "#%%\n"
    }
   }
  },
  {
   "cell_type": "code",
   "execution_count": 33,
   "outputs": [
    {
     "data": {
      "text/plain": "array([29, 26, 25], dtype=int64)"
     },
     "execution_count": 33,
     "metadata": {},
     "output_type": "execute_result"
    }
   ],
   "source": [
    "TN = cm.sum() - (FP + FN + TP)\n",
    "TN"
   ],
   "metadata": {
    "collapsed": false,
    "pycharm": {
     "name": "#%%\n"
    }
   }
  },
  {
   "cell_type": "code",
   "execution_count": 34,
   "outputs": [
    {
     "data": {
      "text/plain": "array([0.81818182, 0.86666667, 1.        ])"
     },
     "execution_count": 34,
     "metadata": {},
     "output_type": "execute_result"
    }
   ],
   "source": [
    "# Sensitivity, hit rate, recall, or true positive rate\n",
    "TPR = TP / (TP + FN)\n",
    "TPR"
   ],
   "metadata": {
    "collapsed": false,
    "pycharm": {
     "name": "#%%\n"
    }
   }
  },
  {
   "cell_type": "code",
   "execution_count": 35,
   "outputs": [
    {
     "data": {
      "text/plain": "array([0.93548387, 0.96296296, 0.96153846])"
     },
     "execution_count": 35,
     "metadata": {},
     "output_type": "execute_result"
    }
   ],
   "source": [
    "# Specificity or true negative rate\n",
    "TNR = TN / (TN + FP)\n",
    "TNR"
   ],
   "metadata": {
    "collapsed": false,
    "pycharm": {
     "name": "#%%\n"
    }
   }
  },
  {
   "cell_type": "code",
   "execution_count": 36,
   "outputs": [
    {
     "data": {
      "text/plain": "array([0.81818182, 0.92857143, 0.94117647])"
     },
     "execution_count": 36,
     "metadata": {},
     "output_type": "execute_result"
    }
   ],
   "source": [
    "# Precision or positive predictive value\n",
    "PPV = TP / (TP + FP)\n",
    "PPV"
   ],
   "metadata": {
    "collapsed": false,
    "pycharm": {
     "name": "#%%\n"
    }
   }
  },
  {
   "cell_type": "code",
   "execution_count": 37,
   "outputs": [
    {
     "data": {
      "text/plain": "array([0.93548387, 0.92857143, 1.        ])"
     },
     "execution_count": 37,
     "metadata": {},
     "output_type": "execute_result"
    }
   ],
   "source": [
    "# Negative predictive value\n",
    "NPV = TN / (TN + FN)\n",
    "NPV"
   ],
   "metadata": {
    "collapsed": false,
    "pycharm": {
     "name": "#%%\n"
    }
   }
  },
  {
   "cell_type": "code",
   "execution_count": 38,
   "outputs": [
    {
     "data": {
      "text/plain": "array([0.06451613, 0.03703704, 0.03846154])"
     },
     "execution_count": 38,
     "metadata": {},
     "output_type": "execute_result"
    }
   ],
   "source": [
    "# Fall out or false positive rate\n",
    "FPR = FP / (FP + TN)\n",
    "FPR"
   ],
   "metadata": {
    "collapsed": false,
    "pycharm": {
     "name": "#%%\n"
    }
   }
  },
  {
   "cell_type": "code",
   "execution_count": 39,
   "outputs": [
    {
     "data": {
      "text/plain": "array([0.18181818, 0.13333333, 0.        ])"
     },
     "execution_count": 39,
     "metadata": {},
     "output_type": "execute_result"
    }
   ],
   "source": [
    "# False negative rate\n",
    "FNR = FN / (TP + FN)\n",
    "FNR"
   ],
   "metadata": {
    "collapsed": false,
    "pycharm": {
     "name": "#%%\n"
    }
   }
  },
  {
   "cell_type": "code",
   "execution_count": 40,
   "outputs": [
    {
     "data": {
      "text/plain": "array([0.18181818, 0.07142857, 0.05882353])"
     },
     "execution_count": 40,
     "metadata": {},
     "output_type": "execute_result"
    }
   ],
   "source": [
    "# False discovery rate\n",
    "FDR = FP / (TP + FP)\n",
    "FDR"
   ],
   "metadata": {
    "collapsed": false,
    "pycharm": {
     "name": "#%%\n"
    }
   }
  },
  {
   "cell_type": "code",
   "execution_count": 42,
   "outputs": [
    {
     "data": {
      "text/plain": "array([0.9047619 , 0.92857143, 0.97619048])"
     },
     "execution_count": 42,
     "metadata": {},
     "output_type": "execute_result"
    }
   ],
   "source": [
    "# Overall accuracy\n",
    "ACC = (TP + TN) / (TP + FP + FN + TN)\n",
    "ACC"
   ],
   "metadata": {
    "collapsed": false,
    "pycharm": {
     "name": "#%%\n"
    }
   }
  },
  {
   "cell_type": "code",
   "execution_count": 47,
   "outputs": [
    {
     "data": {
      "text/plain": "array([0.0952381 , 0.07142857, 0.02380952])"
     },
     "execution_count": 47,
     "metadata": {},
     "output_type": "execute_result"
    }
   ],
   "source": [
    "# Misclassification rate\n",
    "MIS = (FP + FN) / (TP + TN + FP + FN)\n",
    "MIS"
   ],
   "metadata": {
    "collapsed": false,
    "pycharm": {
     "name": "#%%\n"
    }
   }
  }
 ],
 "metadata": {
  "colab": {
   "provenance": []
  },
  "kernelspec": {
   "display_name": "Python 3 (ipykernel)",
   "language": "python",
   "name": "python3"
  },
  "language_info": {
   "codemirror_mode": {
    "name": "ipython",
    "version": 3
   },
   "file_extension": ".py",
   "mimetype": "text/x-python",
   "name": "python",
   "nbconvert_exporter": "python",
   "pygments_lexer": "ipython3",
   "version": "3.7.4"
  },
  "toc": {
   "base_numbering": 1,
   "nav_menu": {},
   "number_sections": false,
   "sideBar": false,
   "skip_h1_title": false,
   "title_cell": "Table of Contents",
   "title_sidebar": "Contents",
   "toc_cell": false,
   "toc_position": {},
   "toc_section_display": false,
   "toc_window_display": false
  }
 },
 "nbformat": 4,
 "nbformat_minor": 1
}