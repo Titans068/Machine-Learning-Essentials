{
 "cells": [
  {
   "cell_type": "code",
   "execution_count": 2,
   "id": "cee36466",
   "metadata": {
    "pycharm": {
     "name": "#%%\n"
    }
   },
   "outputs": [],
   "source": [
    "import numpy as np"
   ]
  },
  {
   "cell_type": "code",
   "execution_count": 3,
   "id": "0859a498",
   "metadata": {
    "pycharm": {
     "name": "#%%\n"
    }
   },
   "outputs": [
    {
     "name": "stdout",
     "output_type": "stream",
     "text": [
      "X1=[3 8 8 1 4 6]\n"
     ]
    }
   ],
   "source": [
    "X1=np.random.randint(10, size=6)\n",
    "print(\"X1=\",X1, sep='')"
   ]
  },
  {
   "cell_type": "code",
   "execution_count": 4,
   "id": "b3fecc31",
   "metadata": {
    "pycharm": {
     "name": "#%%\n"
    }
   },
   "outputs": [
    {
     "name": "stdout",
     "output_type": "stream",
     "text": [
      "X2=[[1 6 7 7]\n",
      " [0 9 3 6]\n",
      " [5 3 2 6]]\n"
     ]
    }
   ],
   "source": [
    "X2=np.random.randint(10, size=(3, 4))\n",
    "print(\"X2=%s\" % X2)"
   ]
  },
  {
   "cell_type": "code",
   "execution_count": 5,
   "id": "6a87c4cb",
   "metadata": {
    "pycharm": {
     "name": "#%%\n"
    }
   },
   "outputs": [
    {
     "name": "stdout",
     "output_type": "stream",
     "text": [
      "X3=[[[9 5 7 7 1]\n",
      "  [4 9 3 7 2]\n",
      "  [5 5 3 7 4]\n",
      "  [0 3 9 2 9]]\n",
      "\n",
      " [[3 2 0 0 4]\n",
      "  [7 8 7 8 5]\n",
      "  [2 8 9 2 4]\n",
      "  [3 7 6 0 1]]\n",
      "\n",
      " [[9 4 7 5 9]\n",
      "  [9 2 8 8 2]\n",
      "  [7 4 1 6 1]\n",
      "  [3 0 4 5 9]]]\n"
     ]
    }
   ],
   "source": [
    "X3=np.random.randint(10, size=(3,4,5))\n",
    "print(f\"X3={X3}\")"
   ]
  },
  {
   "cell_type": "code",
   "execution_count": 6,
   "id": "b9ce18cc",
   "metadata": {
    "pycharm": {
     "name": "#%%\n"
    }
   },
   "outputs": [],
   "source": [
    "X1[0]=10"
   ]
  },
  {
   "cell_type": "code",
   "execution_count": 7,
   "id": "7498a4a4",
   "metadata": {
    "pycharm": {
     "name": "#%%\n"
    }
   },
   "outputs": [
    {
     "data": {
      "text/plain": [
       "array([10,  8,  8,  1,  4,  6])"
      ]
     },
     "execution_count": 7,
     "metadata": {},
     "output_type": "execute_result"
    }
   ],
   "source": [
    "X1"
   ]
  },
  {
   "cell_type": "code",
   "execution_count": 8,
   "id": "d51caaa9",
   "metadata": {
    "pycharm": {
     "name": "#%%\n"
    }
   },
   "outputs": [
    {
     "data": {
      "text/plain": [
       "6"
      ]
     },
     "execution_count": 8,
     "metadata": {},
     "output_type": "execute_result"
    }
   ],
   "source": [
    "X1[-1]"
   ]
  },
  {
   "cell_type": "code",
   "execution_count": 9,
   "id": "b14903b6",
   "metadata": {
    "pycharm": {
     "name": "#%%\n"
    }
   },
   "outputs": [],
   "source": [
    "X2[0,0]=14"
   ]
  },
  {
   "cell_type": "code",
   "execution_count": 10,
   "id": "f3a9268d",
   "metadata": {
    "pycharm": {
     "name": "#%%\n"
    }
   },
   "outputs": [
    {
     "data": {
      "text/plain": [
       "array([[14,  6,  7,  7],\n",
       "       [ 0,  9,  3,  6],\n",
       "       [ 5,  3,  2,  6]])"
      ]
     },
     "execution_count": 10,
     "metadata": {},
     "output_type": "execute_result"
    }
   ],
   "source": [
    "X2"
   ]
  },
  {
   "cell_type": "code",
   "execution_count": 11,
   "id": "63793050",
   "metadata": {
    "pycharm": {
     "name": "#%%\n"
    }
   },
   "outputs": [
    {
     "data": {
      "text/plain": [
       "6"
      ]
     },
     "execution_count": 11,
     "metadata": {},
     "output_type": "execute_result"
    }
   ],
   "source": [
    "X2[1,-1]"
   ]
  },
  {
   "cell_type": "code",
   "execution_count": 12,
   "id": "a4408512",
   "metadata": {
    "pycharm": {
     "name": "#%%\n"
    }
   },
   "outputs": [
    {
     "data": {
      "text/plain": [
       "array([0, 1, 2, 3, 4, 5, 6, 7, 8, 9])"
      ]
     },
     "execution_count": 12,
     "metadata": {},
     "output_type": "execute_result"
    }
   ],
   "source": [
    "nums=np.arange(10)\n",
    "nums"
   ]
  },
  {
   "cell_type": "code",
   "execution_count": 13,
   "id": "a11b5992",
   "metadata": {
    "pycharm": {
     "name": "#%%\n"
    }
   },
   "outputs": [
    {
     "data": {
      "text/plain": [
       "array([[1, 2, 3],\n",
       "       [4, 5, 6],\n",
       "       [7, 8, 9]])"
      ]
     },
     "execution_count": 13,
     "metadata": {},
     "output_type": "execute_result"
    }
   ],
   "source": [
    "np.arange(1, 10).reshape((3,3))"
   ]
  },
  {
   "cell_type": "code",
   "execution_count": 14,
   "id": "cd9c709b",
   "metadata": {
    "pycharm": {
     "name": "#%%\n"
    }
   },
   "outputs": [
    {
     "data": {
      "text/plain": [
       "array([1, 2, 3])"
      ]
     },
     "execution_count": 14,
     "metadata": {},
     "output_type": "execute_result"
    }
   ],
   "source": [
    "x=np.array([1, 2, 3])\n",
    "x"
   ]
  },
  {
   "cell_type": "code",
   "execution_count": 15,
   "id": "10ec12de",
   "metadata": {
    "pycharm": {
     "name": "#%%\n"
    }
   },
   "outputs": [
    {
     "data": {
      "text/plain": [
       "array([[1],\n",
       "       [2],\n",
       "       [3]])"
      ]
     },
     "execution_count": 15,
     "metadata": {},
     "output_type": "execute_result"
    }
   ],
   "source": [
    "x.reshape((3,1))"
   ]
  },
  {
   "cell_type": "code",
   "execution_count": 16,
   "id": "b1d8c4ee",
   "metadata": {
    "pycharm": {
     "name": "#%%\n"
    }
   },
   "outputs": [
    {
     "data": {
      "text/plain": [
       "(3,)"
      ]
     },
     "execution_count": 16,
     "metadata": {},
     "output_type": "execute_result"
    }
   ],
   "source": [
    "x.shape"
   ]
  },
  {
   "cell_type": "code",
   "execution_count": 17,
   "id": "d27cc0ac",
   "metadata": {
    "pycharm": {
     "name": "#%%\n"
    }
   },
   "outputs": [
    {
     "data": {
      "text/plain": [
       "array([[1, 2, 3]])"
      ]
     },
     "metadata": {},
     "output_type": "display_data"
    },
    {
     "data": {
      "text/plain": [
       "(1, 3)"
      ]
     },
     "execution_count": 17,
     "metadata": {},
     "output_type": "execute_result"
    }
   ],
   "source": [
    "xa=x[np.newaxis,:]\n",
    "display(xa)\n",
    "xa.shape"
   ]
  },
  {
   "cell_type": "code",
   "execution_count": 19,
   "id": "0a5e3c80",
   "metadata": {
    "pycharm": {
     "name": "#%%\n"
    }
   },
   "outputs": [
    {
     "data": {
      "text/plain": [
       "array([[1],\n",
       "       [2],\n",
       "       [3]])"
      ]
     },
     "execution_count": 19,
     "metadata": {},
     "output_type": "execute_result"
    }
   ],
   "source": [
    "x[:,np.newaxis]"
   ]
  },
  {
   "cell_type": "code",
   "execution_count": 22,
   "id": "6919d96f",
   "metadata": {
    "pycharm": {
     "name": "#%%\n"
    }
   },
   "outputs": [
    {
     "data": {
      "text/plain": [
       "array([0, 2, 4])"
      ]
     },
     "execution_count": 22,
     "metadata": {},
     "output_type": "execute_result"
    }
   ],
   "source": [
    "nums[:5:2]"
   ]
  },
  {
   "cell_type": "code",
   "execution_count": 23,
   "id": "ee972314",
   "metadata": {
    "pycharm": {
     "name": "#%%\n"
    }
   },
   "outputs": [
    {
     "data": {
      "text/plain": [
       "array([3, 4, 5, 6])"
      ]
     },
     "execution_count": 23,
     "metadata": {},
     "output_type": "execute_result"
    }
   ],
   "source": [
    "nums[3:7]"
   ]
  },
  {
   "cell_type": "code",
   "execution_count": 24,
   "id": "e1695692",
   "metadata": {
    "pycharm": {
     "name": "#%%\n"
    }
   },
   "outputs": [
    {
     "data": {
      "text/plain": [
       "array([0, 2, 4, 6, 8])"
      ]
     },
     "execution_count": 24,
     "metadata": {},
     "output_type": "execute_result"
    }
   ],
   "source": [
    "nums[::2]"
   ]
  },
  {
   "cell_type": "code",
   "execution_count": 30,
   "id": "0ce77ee8",
   "metadata": {
    "pycharm": {
     "name": "#%%\n"
    }
   },
   "outputs": [
    {
     "data": {
      "text/plain": [
       "array([9, 8, 7, 6, 5, 4, 3, 2, 1, 0])"
      ]
     },
     "execution_count": 30,
     "metadata": {},
     "output_type": "execute_result"
    }
   ],
   "source": [
    "nums[::-1]"
   ]
  },
  {
   "cell_type": "code",
   "execution_count": 31,
   "id": "721c87de",
   "metadata": {
    "pycharm": {
     "name": "#%%\n"
    }
   },
   "outputs": [
    {
     "data": {
      "text/plain": [
       "array([9, 7, 5, 3, 1])"
      ]
     },
     "execution_count": 31,
     "metadata": {},
     "output_type": "execute_result"
    }
   ],
   "source": [
    "nums[::-2]"
   ]
  },
  {
   "cell_type": "code",
   "execution_count": 32,
   "id": "ca2b9013",
   "metadata": {
    "pycharm": {
     "name": "#%%\n"
    }
   },
   "outputs": [
    {
     "data": {
      "text/plain": [
       "array([ 0,  1,  2,  3, 20, 20, 20, 20,  8,  9])"
      ]
     },
     "execution_count": 32,
     "metadata": {},
     "output_type": "execute_result"
    }
   ],
   "source": [
    "nums1=nums.copy()\n",
    "nums1[4:8]=20\n",
    "nums1"
   ]
  },
  {
   "cell_type": "code",
   "execution_count": 33,
   "id": "2441e874",
   "metadata": {
    "pycharm": {
     "name": "#%%\n"
    }
   },
   "outputs": [
    {
     "data": {
      "text/plain": [
       "array([0, 1, 2, 3, 4, 5, 6, 7, 8, 9])"
      ]
     },
     "execution_count": 33,
     "metadata": {},
     "output_type": "execute_result"
    }
   ],
   "source": [
    "nums"
   ]
  },
  {
   "cell_type": "code",
   "execution_count": 35,
   "id": "d4adc012",
   "metadata": {
    "pycharm": {
     "name": "#%%\n"
    }
   },
   "outputs": [
    {
     "data": {
      "text/plain": [
       "array([[14,  6,  7,  7],\n",
       "       [ 0,  9,  3,  6],\n",
       "       [ 5,  3,  2,  6]])"
      ]
     },
     "execution_count": 35,
     "metadata": {},
     "output_type": "execute_result"
    }
   ],
   "source": [
    "X2"
   ]
  },
  {
   "cell_type": "code",
   "execution_count": 36,
   "id": "11cb6b4a",
   "metadata": {
    "pycharm": {
     "name": "#%%\n"
    }
   },
   "outputs": [
    {
     "data": {
      "text/plain": [
       "array([[14,  6,  7],\n",
       "       [ 0,  9,  3]])"
      ]
     },
     "execution_count": 36,
     "metadata": {},
     "output_type": "execute_result"
    }
   ],
   "source": [
    "X2[:2,:3]"
   ]
  },
  {
   "cell_type": "code",
   "execution_count": 37,
   "id": "608545db",
   "metadata": {
    "pycharm": {
     "name": "#%%\n"
    }
   },
   "outputs": [
    {
     "data": {
      "text/plain": [
       "array([[14,  7],\n",
       "       [ 0,  3],\n",
       "       [ 5,  2]])"
      ]
     },
     "execution_count": 37,
     "metadata": {},
     "output_type": "execute_result"
    }
   ],
   "source": [
    "X2[:3, ::2]"
   ]
  },
  {
   "cell_type": "code",
   "execution_count": 39,
   "id": "c9a46cb2",
   "metadata": {
    "pycharm": {
     "name": "#%%\n"
    }
   },
   "outputs": [
    {
     "data": {
      "text/plain": [
       "array([[7, 6],\n",
       "       [6, 9],\n",
       "       [6, 3]])"
      ]
     },
     "execution_count": 39,
     "metadata": {},
     "output_type": "execute_result"
    }
   ],
   "source": [
    "X2[:3, ::-2]"
   ]
  },
  {
   "cell_type": "code",
   "execution_count": 42,
   "id": "7aa312f4",
   "metadata": {
    "pycharm": {
     "name": "#%%\n"
    }
   },
   "outputs": [
    {
     "data": {
      "text/plain": [
       "array([[ 6,  2,  3,  5],\n",
       "       [ 6,  3,  9,  0],\n",
       "       [ 7,  7,  6, 14]])"
      ]
     },
     "execution_count": 42,
     "metadata": {},
     "output_type": "execute_result"
    }
   ],
   "source": [
    "X2[::-1,::-1]"
   ]
  },
  {
   "cell_type": "code",
   "execution_count": 43,
   "id": "84be916a",
   "metadata": {
    "pycharm": {
     "name": "#%%\n"
    }
   },
   "outputs": [
    {
     "data": {
      "text/plain": [
       "array([[ 5,  3,  2,  6],\n",
       "       [ 0,  9,  3,  6],\n",
       "       [14,  6,  7,  7]])"
      ]
     },
     "execution_count": 43,
     "metadata": {},
     "output_type": "execute_result"
    }
   ],
   "source": [
    "X2[::-1]"
   ]
  },
  {
   "cell_type": "code",
   "execution_count": 45,
   "id": "bccf47ac",
   "metadata": {
    "pycharm": {
     "name": "#%%\n"
    }
   },
   "outputs": [
    {
     "data": {
      "text/plain": [
       "array([[ 7,  7,  6, 14],\n",
       "       [ 6,  3,  9,  0],\n",
       "       [ 6,  2,  3,  5]])"
      ]
     },
     "execution_count": 45,
     "metadata": {},
     "output_type": "execute_result"
    }
   ],
   "source": [
    "X2[:,::-1]"
   ]
  },
  {
   "cell_type": "code",
   "execution_count": 47,
   "id": "e21cae26",
   "metadata": {
    "pycharm": {
     "name": "#%%\n"
    }
   },
   "outputs": [
    {
     "data": {
      "text/plain": [
       "array([14,  6,  7,  7])"
      ]
     },
     "execution_count": 47,
     "metadata": {},
     "output_type": "execute_result"
    }
   ],
   "source": [
    "X2[0,:]"
   ]
  },
  {
   "cell_type": "code",
   "execution_count": 48,
   "id": "33bb48e3",
   "metadata": {
    "pycharm": {
     "name": "#%%\n"
    }
   },
   "outputs": [
    {
     "data": {
      "text/plain": [
       "array([14,  0,  5])"
      ]
     },
     "execution_count": 48,
     "metadata": {},
     "output_type": "execute_result"
    }
   ],
   "source": [
    "X2[:,0]"
   ]
  },
  {
   "cell_type": "code",
   "execution_count": 3,
   "id": "ad216e5d",
   "metadata": {
    "pycharm": {
     "name": "#%%\n"
    }
   },
   "outputs": [
    {
     "data": {
      "text/plain": "array([[[ 0,  1,  2],\n        [ 3,  4,  5]],\n\n       [[ 6,  7,  8],\n        [ 9, 10, 11]]])"
     },
     "execution_count": 3,
     "metadata": {},
     "output_type": "execute_result"
    }
   ],
   "source": [
    "xb=np.arange(12).reshape((2,2,3))\n",
    "xb"
   ]
  },
  {
   "cell_type": "code",
   "execution_count": 54,
   "id": "685fb6ee",
   "metadata": {
    "pycharm": {
     "name": "#%%\n"
    }
   },
   "outputs": [
    {
     "data": {
      "text/plain": [
       "array([[ 6,  7,  8],\n",
       "       [ 9, 10, 11]])"
      ]
     },
     "execution_count": 54,
     "metadata": {},
     "output_type": "execute_result"
    }
   ],
   "source": [
    "xb[1]"
   ]
  },
  {
   "cell_type": "code",
   "execution_count": 59,
   "id": "ebad1ef2",
   "metadata": {
    "pycharm": {
     "name": "#%%\n"
    }
   },
   "outputs": [
    {
     "data": {
      "text/plain": [
       "array([[ 9, 10, 11],\n",
       "       [ 6,  7,  8]])"
      ]
     },
     "execution_count": 59,
     "metadata": {},
     "output_type": "execute_result"
    }
   ],
   "source": [
    "xb[1][::-1,:]"
   ]
  },
  {
   "cell_type": "code",
   "execution_count": 60,
   "id": "a75aecf6",
   "metadata": {
    "pycharm": {
     "name": "#%%\n"
    }
   },
   "outputs": [
    {
     "data": {
      "text/plain": [
       "array([[ 9, 10, 11],\n",
       "       [ 6,  7,  8]])"
      ]
     },
     "execution_count": 60,
     "metadata": {},
     "output_type": "execute_result"
    }
   ],
   "source": [
    "xb[1,::-1]"
   ]
  },
  {
   "cell_type": "code",
   "execution_count": 62,
   "id": "5795c329",
   "metadata": {
    "pycharm": {
     "name": "#%%\n"
    }
   },
   "outputs": [
    {
     "data": {
      "text/plain": [
       "array([[ 2, 15, 19],\n",
       "       [29,  8,  9],\n",
       "       [ 7, 10, 11]])"
      ]
     },
     "execution_count": 62,
     "metadata": {},
     "output_type": "execute_result"
    }
   ],
   "source": [
    "xc=np.random.randint(30, size=(3,3))\n",
    "xc"
   ]
  },
  {
   "cell_type": "code",
   "execution_count": 63,
   "id": "7c4854dd",
   "metadata": {
    "pycharm": {
     "name": "#%%\n"
    }
   },
   "outputs": [
    {
     "data": {
      "text/plain": [
       "array([[15, 19],\n",
       "       [ 8,  9]])"
      ]
     },
     "execution_count": 63,
     "metadata": {},
     "output_type": "execute_result"
    }
   ],
   "source": [
    "xc[:2,1:]"
   ]
  },
  {
   "cell_type": "code",
   "execution_count": 64,
   "id": "bcd6a4f7",
   "metadata": {
    "pycharm": {
     "name": "#%%\n"
    }
   },
   "outputs": [
    {
     "data": {
      "text/plain": [
       "(2, 2)"
      ]
     },
     "execution_count": 64,
     "metadata": {},
     "output_type": "execute_result"
    }
   ],
   "source": [
    "xc[:2,1:].shape"
   ]
  },
  {
   "cell_type": "code",
   "execution_count": 65,
   "id": "c9b7ab24",
   "metadata": {
    "pycharm": {
     "name": "#%%\n"
    }
   },
   "outputs": [
    {
     "data": {
      "text/plain": [
       "array([[ 2, 15],\n",
       "       [29,  8],\n",
       "       [ 7, 10]])"
      ]
     },
     "execution_count": 65,
     "metadata": {},
     "output_type": "execute_result"
    }
   ],
   "source": [
    "xc[:,:2]"
   ]
  },
  {
   "cell_type": "code",
   "execution_count": 66,
   "id": "82902a25",
   "metadata": {
    "pycharm": {
     "name": "#%%\n"
    }
   },
   "outputs": [
    {
     "data": {
      "text/plain": [
       "array([29,  8])"
      ]
     },
     "execution_count": 66,
     "metadata": {},
     "output_type": "execute_result"
    }
   ],
   "source": [
    "xc[1,:2]"
   ]
  },
  {
   "cell_type": "code",
   "execution_count": 67,
   "id": "64fb2663",
   "metadata": {
    "pycharm": {
     "name": "#%%\n"
    }
   },
   "outputs": [
    {
     "data": {
      "text/plain": [
       "(3, 3)"
      ]
     },
     "execution_count": 67,
     "metadata": {},
     "output_type": "execute_result"
    }
   ],
   "source": [
    "xc.shape"
   ]
  },
  {
   "cell_type": "code",
   "execution_count": 72,
   "id": "563da9c1",
   "metadata": {
    "pycharm": {
     "name": "#%%\n"
    }
   },
   "outputs": [
    {
     "data": {
      "text/plain": [
       "array([[29,  8]])"
      ]
     },
     "execution_count": 72,
     "metadata": {},
     "output_type": "execute_result"
    }
   ],
   "source": [
    "xc[1:2,:2]"
   ]
  },
  {
   "cell_type": "code",
   "execution_count": 74,
   "id": "cf3c63c8",
   "metadata": {
    "pycharm": {
     "name": "#%%\n"
    }
   },
   "outputs": [
    {
     "data": {
      "text/plain": [
       "array([[[ 0,  1,  2],\n",
       "        [ 3,  4,  5],\n",
       "        [ 6,  7,  8]],\n",
       "\n",
       "       [[ 9, 10, 11],\n",
       "        [12, 13, 14],\n",
       "        [15, 16, 17]],\n",
       "\n",
       "       [[18, 19, 20],\n",
       "        [21, 22, 23],\n",
       "        [24, 25, 26]]])"
      ]
     },
     "execution_count": 74,
     "metadata": {},
     "output_type": "execute_result"
    }
   ],
   "source": [
    "xd=np.arange(27).reshape((3,3,3))\n",
    "xd"
   ]
  },
  {
   "cell_type": "code",
   "execution_count": 79,
   "id": "c8d8f062",
   "metadata": {
    "pycharm": {
     "name": "#%%\n"
    }
   },
   "outputs": [
    {
     "data": {
      "text/plain": [
       "array([2, 5, 8])"
      ]
     },
     "execution_count": 79,
     "metadata": {},
     "output_type": "execute_result"
    }
   ],
   "source": [
    "xd[:,:,2][0]"
   ]
  },
  {
   "cell_type": "code",
   "execution_count": 81,
   "id": "41f9c32d",
   "metadata": {
    "pycharm": {
     "name": "#%%\n"
    }
   },
   "outputs": [
    {
     "data": {
      "text/plain": [
       "array([[ 2, 27],\n",
       "       [25, 27]])"
      ]
     },
     "metadata": {},
     "output_type": "display_data"
    },
    {
     "data": {
      "text/plain": [
       "array([[22, 10],\n",
       "       [ 3, 26]])"
      ]
     },
     "metadata": {},
     "output_type": "display_data"
    }
   ],
   "source": [
    "xe=np.random.randint(30, size=(2,2))\n",
    "xf=np.random.randint(30, size=(2,2))\n",
    "display(xe)\n",
    "display(xf)"
   ]
  },
  {
   "cell_type": "code",
   "execution_count": 83,
   "id": "b9878c52",
   "metadata": {
    "pycharm": {
     "name": "#%%\n"
    }
   },
   "outputs": [
    {
     "data": {
      "text/plain": [
       "array([[ 2, 27],\n",
       "       [25, 27],\n",
       "       [22, 10],\n",
       "       [ 3, 26]])"
      ]
     },
     "execution_count": 83,
     "metadata": {},
     "output_type": "execute_result"
    }
   ],
   "source": [
    "xg=np.concatenate([xe,xf])\n",
    "xg"
   ]
  },
  {
   "cell_type": "code",
   "execution_count": 85,
   "id": "ea4dc953",
   "metadata": {
    "pycharm": {
     "name": "#%%\n"
    }
   },
   "outputs": [
    {
     "data": {
      "text/plain": [
       "array([[ 0,  3,  6],\n",
       "       [ 9, 12, 15],\n",
       "       [18, 21, 24]])"
      ]
     },
     "execution_count": 85,
     "metadata": {},
     "output_type": "execute_result"
    }
   ],
   "source": [
    "xd[...,0]"
   ]
  },
  {
   "cell_type": "code",
   "execution_count": 88,
   "id": "ae9e0e75",
   "metadata": {
    "pycharm": {
     "name": "#%%\n"
    }
   },
   "outputs": [
    {
     "data": {
      "text/plain": [
       "array([[ 1,  4,  7],\n",
       "       [10, 13, 16],\n",
       "       [19, 22, 25]])"
      ]
     },
     "execution_count": 88,
     "metadata": {},
     "output_type": "execute_result"
    }
   ],
   "source": [
    "xd[...,1]"
   ]
  },
  {
   "cell_type": "code",
   "execution_count": 87,
   "id": "6f6418ea",
   "metadata": {
    "pycharm": {
     "name": "#%%\n"
    }
   },
   "outputs": [
    {
     "data": {
      "text/plain": [
       "array([[31, 79, 53],\n",
       "       [78, 68, 88],\n",
       "       [28, 98, 40],\n",
       "       [80, 92, 29],\n",
       "       [76, 16, 50],\n",
       "       [42, 23, 53]])"
      ]
     },
     "execution_count": 87,
     "metadata": {},
     "output_type": "execute_result"
    }
   ],
   "source": [
    "xh=np.random.randint(100, size=(3,3))\n",
    "xi=np.random.randint(100, size=(3,3))\n",
    "xj=np.concatenate([xh,xi])\n",
    "xj"
   ]
  },
  {
   "cell_type": "code",
   "execution_count": 89,
   "id": "01b285db",
   "metadata": {
    "pycharm": {
     "name": "#%%\n"
    }
   },
   "outputs": [
    {
     "data": {
      "text/plain": [
       "array([[31, 79, 53],\n",
       "       [78, 68, 88],\n",
       "       [28, 98, 40],\n",
       "       [80, 92, 29],\n",
       "       [76, 16, 50],\n",
       "       [42, 23, 53]])"
      ]
     },
     "execution_count": 89,
     "metadata": {},
     "output_type": "execute_result"
    }
   ],
   "source": [
    "xj"
   ]
  }
 ],
 "metadata": {
  "kernelspec": {
   "display_name": "Python 3 (ipykernel)",
   "language": "python",
   "name": "python3"
  },
  "language_info": {
   "codemirror_mode": {
    "name": "ipython",
    "version": 3
   },
   "file_extension": ".py",
   "mimetype": "text/x-python",
   "name": "python",
   "nbconvert_exporter": "python",
   "pygments_lexer": "ipython3",
   "version": "3.7.4"
  },
  "toc": {
   "base_numbering": 1,
   "nav_menu": {},
   "number_sections": false,
   "sideBar": false,
   "skip_h1_title": false,
   "title_cell": "Table of Contents",
   "title_sidebar": "Contents",
   "toc_cell": false,
   "toc_position": {},
   "toc_section_display": false,
   "toc_window_display": false
  }
 },
 "nbformat": 4,
 "nbformat_minor": 5
}