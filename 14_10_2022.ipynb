{
 "cells": [
  {
   "cell_type": "code",
   "execution_count": 2,
   "metadata": {
    "collapsed": true,
    "pycharm": {
     "name": "#%%\n"
    }
   },
   "outputs": [],
   "source": [
    "import numpy as np"
   ]
  },
  {
   "cell_type": "code",
   "execution_count": 3,
   "outputs": [
    {
     "data": {
      "text/plain": "array([[ 0,  1,  2,  3,  4],\n       [ 5,  6,  7,  8,  9],\n       [10, 11, 12, 13, 14]])"
     },
     "execution_count": 3,
     "metadata": {},
     "output_type": "execute_result"
    }
   ],
   "source": [
    "arr = np.arange(15).reshape((3, 5))\n",
    "arr"
   ],
   "metadata": {
    "collapsed": false,
    "pycharm": {
     "name": "#%%\n"
    }
   }
  },
  {
   "cell_type": "code",
   "execution_count": 4,
   "outputs": [
    {
     "data": {
      "text/plain": "array([[ 0,  5, 10],\n       [ 1,  6, 11],\n       [ 2,  7, 12],\n       [ 3,  8, 13],\n       [ 4,  9, 14]])"
     },
     "execution_count": 4,
     "metadata": {},
     "output_type": "execute_result"
    }
   ],
   "source": [
    "arr.T"
   ],
   "metadata": {
    "collapsed": false,
    "pycharm": {
     "name": "#%%\n"
    }
   }
  },
  {
   "cell_type": "code",
   "execution_count": 5,
   "outputs": [
    {
     "data": {
      "text/plain": "array([[-0.31178367,  0.72900392,  0.21782079, -0.8990918 ],\n       [-2.48678065,  0.91325152,  1.12706373, -1.51409323],\n       [ 1.63929108, -0.4298936 ,  2.63128056,  0.60182225],\n       [-0.33588161,  1.23773784,  0.11112817,  0.12915125]])"
     },
     "execution_count": 5,
     "metadata": {},
     "output_type": "execute_result"
    }
   ],
   "source": [
    "np.random.seed(6)\n",
    "samples = np.random.normal(size=(4, 4))\n",
    "samples"
   ],
   "metadata": {
    "collapsed": false,
    "pycharm": {
     "name": "#%%\n"
    }
   }
  },
  {
   "cell_type": "code",
   "execution_count": 6,
   "outputs": [
    {
     "data": {
      "text/plain": "0.21000165866930798"
     },
     "execution_count": 6,
     "metadata": {},
     "output_type": "execute_result"
    }
   ],
   "source": [
    "np.mean(samples)"
   ],
   "metadata": {
    "collapsed": false,
    "pycharm": {
     "name": "#%%\n"
    }
   }
  },
  {
   "cell_type": "code",
   "execution_count": 7,
   "outputs": [
    {
     "data": {
      "text/plain": "array([[0.05447451, 0.71863724, 0.80217056],\n       [0.73640664, 0.70913175, 0.54093685],\n       [0.12482417, 0.9576473 , 0.4032563 ]])"
     },
     "execution_count": 7,
     "metadata": {},
     "output_type": "execute_result"
    }
   ],
   "source": [
    "np.random.rand(3, 3)"
   ],
   "metadata": {
    "collapsed": false,
    "pycharm": {
     "name": "#%%\n"
    }
   }
  },
  {
   "cell_type": "code",
   "execution_count": 8,
   "outputs": [
    {
     "data": {
      "text/plain": "10"
     },
     "execution_count": 8,
     "metadata": {},
     "output_type": "execute_result"
    }
   ],
   "source": [
    "np.random.randint(3, 15)"
   ],
   "metadata": {
    "collapsed": false,
    "pycharm": {
     "name": "#%%\n"
    }
   }
  },
  {
   "cell_type": "code",
   "execution_count": 9,
   "outputs": [
    {
     "data": {
      "text/plain": "array([[11,  8,  9],\n       [13, 13, 13],\n       [ 6,  8, 14]])"
     },
     "execution_count": 9,
     "metadata": {},
     "output_type": "execute_result"
    }
   ],
   "source": [
    "number = np.random.randint(3, 15, size=(3, 3))\n",
    "number"
   ],
   "metadata": {
    "collapsed": false,
    "pycharm": {
     "name": "#%%\n"
    }
   }
  },
  {
   "cell_type": "code",
   "execution_count": 10,
   "outputs": [
    {
     "data": {
      "text/plain": "array([[ 0.44122749, -0.33087015,  2.43077119, -0.25209213],\n       [ 0.10960984,  1.58248112, -0.9092324 , -0.59163666]])"
     },
     "execution_count": 10,
     "metadata": {},
     "output_type": "execute_result"
    }
   ],
   "source": [
    "np.random.seed(5)\n",
    "samples = np.random.randn(2, 4)\n",
    "samples"
   ],
   "metadata": {
    "collapsed": false,
    "pycharm": {
     "name": "#%%\n"
    }
   }
  },
  {
   "cell_type": "code",
   "execution_count": 11,
   "outputs": [
    {
     "data": {
      "text/plain": "array([[29, 32, 26, 31],\n       [29, 30, 28, 28],\n       [28, 31, 30, 31]])"
     },
     "execution_count": 11,
     "metadata": {},
     "output_type": "execute_result"
    }
   ],
   "source": [
    "samples = np.random.binomial(np.random.randint(0, 50), np.random.rand(), size=(3, 4))\n",
    "samples"
   ],
   "metadata": {
    "collapsed": false,
    "pycharm": {
     "name": "#%%\n"
    }
   }
  },
  {
   "cell_type": "code",
   "execution_count": 12,
   "outputs": [
    {
     "data": {
      "text/plain": "array([[5.30125488e-03, 9.99989392e-01, 4.15872301e-01, 6.54352000e-01],\n       [4.44340270e-04, 3.12907778e-07, 6.93454801e-02, 1.48992848e-06],\n       [9.98198077e-01, 9.72414365e-01, 9.85596603e-01, 9.97932067e-01]])"
     },
     "execution_count": 12,
     "metadata": {},
     "output_type": "execute_result"
    }
   ],
   "source": [
    "samples = np.random.beta(np.random.rand(), np.random.rand(), size=(3, 4))\n",
    "samples"
   ],
   "metadata": {
    "collapsed": false,
    "pycharm": {
     "name": "#%%\n"
    }
   }
  },
  {
   "cell_type": "code",
   "execution_count": 13,
   "outputs": [
    {
     "data": {
      "text/plain": "array([[5.91521666, 3.65076163, 1.9310871 , 1.14933764],\n       [1.51147076, 0.69057041, 6.60363564, 0.48580441],\n       [1.15497232, 1.87411769, 2.21106052, 3.45382799],\n       [2.32993279, 0.83886672, 6.96773214, 1.94593107]])"
     },
     "execution_count": 13,
     "metadata": {},
     "output_type": "execute_result"
    }
   ],
   "source": [
    "samples = np.random.chisquare(np.random.uniform(1, 20), size=(4, 4))\n",
    "samples"
   ],
   "metadata": {
    "collapsed": false,
    "pycharm": {
     "name": "#%%\n"
    }
   }
  },
  {
   "cell_type": "code",
   "execution_count": 14,
   "outputs": [
    {
     "data": {
      "text/plain": "array([[14.97039753,  7.29899955, 11.28689944,  7.90778805],\n       [16.13567063,  9.53402434, 10.8455665 , 10.95289684],\n       [ 6.57737925,  7.87151839, 12.2609166 ,  7.10387977],\n       [ 6.86935782, 10.992073  ,  7.25062977,  7.15481048]])"
     },
     "execution_count": 14,
     "metadata": {},
     "output_type": "execute_result"
    }
   ],
   "source": [
    "samples = np.random.gamma(np.random.uniform(1, 20), size=(4, 4))\n",
    "samples"
   ],
   "metadata": {
    "collapsed": false,
    "pycharm": {
     "name": "#%%\n"
    }
   }
  },
  {
   "cell_type": "code",
   "execution_count": 15,
   "outputs": [
    {
     "data": {
      "text/plain": "array([[12.19810369, 18.37995246,  2.1366111 , 19.33493617],\n       [11.84852912,  6.74784414, 16.6884107 , 13.52892833],\n       [19.74352739,  3.04230114, 12.03745203,  9.98373495],\n       [13.39314493,  5.59532203,  1.5914712 , 11.3404147 ]])"
     },
     "execution_count": 15,
     "metadata": {},
     "output_type": "execute_result"
    }
   ],
   "source": [
    "samples = np.random.uniform(1, 20, size=(4, 4))\n",
    "samples"
   ],
   "metadata": {
    "collapsed": false,
    "pycharm": {
     "name": "#%%\n"
    }
   }
  },
  {
   "cell_type": "code",
   "execution_count": 20,
   "outputs": [],
   "source": [
    "import matplotlib.pyplot as plt"
   ],
   "metadata": {
    "collapsed": false,
    "pycharm": {
     "name": "#%%\n"
    }
   }
  },
  {
   "cell_type": "code",
   "execution_count": 49,
   "outputs": [
    {
     "data": {
      "text/plain": "array([ 1.126817  , -1.57073581, -1.2078855 , -0.15273371,  1.38626792,\n        1.23830535, -0.97537058, -0.09568794,  0.10463306, -0.87572895])"
     },
     "execution_count": 49,
     "metadata": {},
     "output_type": "execute_result"
    }
   ],
   "source": [
    "np.random.normal(size=10)"
   ],
   "metadata": {
    "collapsed": false,
    "pycharm": {
     "name": "#%%\n"
    }
   }
  },
  {
   "cell_type": "code",
   "execution_count": 61,
   "outputs": [
    {
     "data": {
      "text/plain": "Text(0, 0.5, 'y axis')"
     },
     "execution_count": 61,
     "metadata": {},
     "output_type": "execute_result"
    },
    {
     "data": {
      "text/plain": "<Figure size 640x480 with 1 Axes>",
      "image/png": "[encoded data removed]"
     },
     "metadata": {},
     "output_type": "display_data"
    }
   ],
   "source": [
    "plt.bar(np.arange(1, 11), np.random.normal(25, 3, size=10), width=.8)\n",
    "plt.xlabel(\"x axis\")\n",
    "plt.ylabel(\"y axis\")"
   ],
   "metadata": {
    "collapsed": false,
    "pycharm": {
     "name": "#%%\n"
    }
   }
  },
  {
   "cell_type": "code",
   "execution_count": 62,
   "outputs": [
    {
     "data": {
      "text/plain": "array([3.74540119, 9.50714306, 7.31993942, 5.98658484, 1.5601864 ,\n       1.5599452 , 0.58083612, 8.66176146, 6.01115012, 7.08072578,\n       0.20584494, 9.69909852, 8.32442641, 2.12339111, 1.81824967,\n       1.8340451 , 3.04242243, 5.24756432, 4.31945019, 2.9122914 ,\n       6.11852895, 1.39493861, 2.92144649, 3.66361843, 4.56069984,\n       7.85175961, 1.99673782, 5.14234438, 5.92414569, 0.46450413,\n       6.07544852, 1.70524124, 0.65051593, 9.48885537, 9.65632033,\n       8.08397348, 3.04613769, 0.97672114, 6.84233027, 4.40152494])"
     },
     "metadata": {},
     "output_type": "display_data"
    },
    {
     "data": {
      "text/plain": "array([ 6.47730515, 16.9565752 , 14.46242375,  9.75232603,  2.3292364 ,\n        0.16022028, -1.16651381, 16.52038415, 11.76076681, 13.33281984,\n       -0.7039584 , 18.09709335, 14.17033083,  2.52693801,  2.17586057,\n        3.72521242,  5.42846315,  7.73208848,  7.96298434,  4.43950052,\n       10.56013589,  2.4015535 ,  5.87389249,  7.25851698,  7.28218216,\n       14.39430685,  3.32473907, 10.2602339 , 10.36911714, -0.25665072,\n       10.04456206,  1.21427585,  1.11355768, 19.33395077, 18.24063054,\n       16.17147986,  5.45391141,  0.30832253, 13.04605614,  9.34108644])"
     },
     "metadata": {},
     "output_type": "display_data"
    },
    {
     "data": {
      "text/plain": "<matplotlib.collections.PathCollection at 0x1227eff7788>"
     },
     "execution_count": 62,
     "metadata": {},
     "output_type": "execute_result"
    },
    {
     "data": {
      "text/plain": "<Figure size 640x480 with 1 Axes>",
      "image/png": "[encoded data removed]"
     },
     "metadata": {},
     "output_type": "display_data"
    }
   ],
   "source": [
    "rng = np.random.RandomState(42)\n",
    "x = 10 * rng.rand(40)\n",
    "y = 2 * x - 1 + rng.randn(40)\n",
    "display(x)\n",
    "display(y)\n",
    "plt.scatter(x, y)"
   ],
   "metadata": {
    "collapsed": false,
    "pycharm": {
     "name": "#%%\n"
    }
   }
  },
  {
   "cell_type": "code",
   "execution_count": 63,
   "outputs": [
    {
     "data": {
      "text/plain": "(40, 1)"
     },
     "execution_count": 63,
     "metadata": {},
     "output_type": "execute_result"
    }
   ],
   "source": [
    "x.reshape(-1, 1).shape"
   ],
   "metadata": {
    "collapsed": false,
    "pycharm": {
     "name": "#%%\n"
    }
   }
  },
  {
   "cell_type": "code",
   "execution_count": 78,
   "outputs": [
    {
     "data": {
      "text/plain": "LinearRegression()"
     },
     "execution_count": 78,
     "metadata": {},
     "output_type": "execute_result"
    }
   ],
   "source": [
    "from sklearn.linear_model import LinearRegression\n",
    "\n",
    "model = LinearRegression(fit_intercept=True)\n",
    "model"
   ],
   "metadata": {
    "collapsed": false,
    "pycharm": {
     "name": "#%%\n"
    }
   }
  },
  {
   "cell_type": "code",
   "execution_count": 80,
   "outputs": [
    {
     "data": {
      "text/plain": "(40, 1)"
     },
     "metadata": {},
     "output_type": "display_data"
    },
    {
     "data": {
      "text/plain": "array([[3.74540119],\n       [9.50714306],\n       [7.31993942],\n       [5.98658484],\n       [1.5601864 ],\n       [1.5599452 ],\n       [0.58083612],\n       [8.66176146],\n       [6.01115012],\n       [7.08072578],\n       [0.20584494],\n       [9.69909852],\n       [8.32442641],\n       [2.12339111],\n       [1.81824967],\n       [1.8340451 ],\n       [3.04242243],\n       [5.24756432],\n       [4.31945019],\n       [2.9122914 ],\n       [6.11852895],\n       [1.39493861],\n       [2.92144649],\n       [3.66361843],\n       [4.56069984],\n       [7.85175961],\n       [1.99673782],\n       [5.14234438],\n       [5.92414569],\n       [0.46450413],\n       [6.07544852],\n       [1.70524124],\n       [0.65051593],\n       [9.48885537],\n       [9.65632033],\n       [8.08397348],\n       [3.04613769],\n       [0.97672114],\n       [6.84233027],\n       [4.40152494]])"
     },
     "execution_count": 80,
     "metadata": {},
     "output_type": "execute_result"
    }
   ],
   "source": [
    "X = x[:, np.newaxis]\n",
    "display(X.shape)\n",
    "X"
   ],
   "metadata": {
    "collapsed": false,
    "pycharm": {
     "name": "#%%\n"
    }
   }
  },
  {
   "cell_type": "code",
   "execution_count": 81,
   "outputs": [
    {
     "data": {
      "text/plain": "LinearRegression()"
     },
     "execution_count": 81,
     "metadata": {},
     "output_type": "execute_result"
    }
   ],
   "source": [
    "model.fit(X, y)"
   ],
   "metadata": {
    "collapsed": false,
    "pycharm": {
     "name": "#%%\n"
    }
   }
  },
  {
   "cell_type": "code",
   "execution_count": 82,
   "outputs": [
    {
     "data": {
      "text/plain": "array([2.0133901])"
     },
     "execution_count": 82,
     "metadata": {},
     "output_type": "execute_result"
    }
   ],
   "source": [
    "model.coef_"
   ],
   "metadata": {
    "collapsed": false,
    "pycharm": {
     "name": "#%%\n"
    }
   }
  },
  {
   "cell_type": "code",
   "execution_count": 83,
   "outputs": [
    {
     "data": {
      "text/plain": "-1.1395090019483707"
     },
     "execution_count": 83,
     "metadata": {},
     "output_type": "execute_result"
    }
   ],
   "source": [
    "model.intercept_"
   ],
   "metadata": {
    "collapsed": false,
    "pycharm": {
     "name": "#%%\n"
    }
   }
  },
  {
   "cell_type": "code",
   "execution_count": 95,
   "outputs": [
    {
     "data": {
      "text/plain": "[<matplotlib.lines.Line2D at 0x12203197708>]"
     },
     "execution_count": 95,
     "metadata": {},
     "output_type": "execute_result"
    },
    {
     "data": {
      "text/plain": "<Figure size 640x480 with 1 Axes>",
      "image/png": "[encoded data removed]"
     },
     "metadata": {},
     "output_type": "display_data"
    }
   ],
   "source": [
    "\"\"\"\n",
    "y = ax + b\n",
    "a = coefficient\n",
    "b = intercept\n",
    "\"\"\"\n",
    "plt.title(\"X vs Y\")\n",
    "plt.xlabel(\"X\")\n",
    "plt.ylabel(\"Y\")\n",
    "plt.scatter(x, y)\n",
    "plt.plot(x, ((model.coef_ * x) + model.intercept_), color=\"crimson\")"
   ],
   "metadata": {
    "collapsed": false,
    "pycharm": {
     "name": "#%%\n"
    }
   }
  },
  {
   "cell_type": "code",
   "execution_count": 86,
   "outputs": [
    {
     "data": {
      "text/plain": "array([-1.        , -0.69230769, -0.38461538, -0.07692308,  0.23076923,\n        0.53846154,  0.84615385,  1.15384615,  1.46153846,  1.76923077,\n        2.07692308,  2.38461538,  2.69230769,  3.        ,  3.30769231,\n        3.61538462,  3.92307692,  4.23076923,  4.53846154,  4.84615385,\n        5.15384615,  5.46153846,  5.76923077,  6.07692308,  6.38461538,\n        6.69230769,  7.        ,  7.30769231,  7.61538462,  7.92307692,\n        8.23076923,  8.53846154,  8.84615385,  9.15384615,  9.46153846,\n        9.76923077, 10.07692308, 10.38461538, 10.69230769, 11.        ])"
     },
     "execution_count": 86,
     "metadata": {},
     "output_type": "execute_result"
    }
   ],
   "source": [
    "xfit = np.linspace(-1, 11, 40)\n",
    "xfit"
   ],
   "metadata": {
    "collapsed": false,
    "pycharm": {
     "name": "#%%\n"
    }
   }
  },
  {
   "cell_type": "code",
   "execution_count": 88,
   "outputs": [
    {
     "name": "stdout",
     "output_type": "stream",
     "text": [
      "(40, 1)\n"
     ]
    },
    {
     "data": {
      "text/plain": "array([[-1.        ],\n       [-0.69230769],\n       [-0.38461538],\n       [-0.07692308],\n       [ 0.23076923],\n       [ 0.53846154],\n       [ 0.84615385],\n       [ 1.15384615],\n       [ 1.46153846],\n       [ 1.76923077],\n       [ 2.07692308],\n       [ 2.38461538],\n       [ 2.69230769],\n       [ 3.        ],\n       [ 3.30769231],\n       [ 3.61538462],\n       [ 3.92307692],\n       [ 4.23076923],\n       [ 4.53846154],\n       [ 4.84615385],\n       [ 5.15384615],\n       [ 5.46153846],\n       [ 5.76923077],\n       [ 6.07692308],\n       [ 6.38461538],\n       [ 6.69230769],\n       [ 7.        ],\n       [ 7.30769231],\n       [ 7.61538462],\n       [ 7.92307692],\n       [ 8.23076923],\n       [ 8.53846154],\n       [ 8.84615385],\n       [ 9.15384615],\n       [ 9.46153846],\n       [ 9.76923077],\n       [10.07692308],\n       [10.38461538],\n       [10.69230769],\n       [11.        ]])"
     },
     "execution_count": 88,
     "metadata": {},
     "output_type": "execute_result"
    }
   ],
   "source": [
    "Xfit = xfit[:, np.newaxis]\n",
    "print(Xfit.shape)\n",
    "Xfit"
   ],
   "metadata": {
    "collapsed": false,
    "pycharm": {
     "name": "#%%\n"
    }
   }
  },
  {
   "cell_type": "code",
   "execution_count": 89,
   "outputs": [
    {
     "data": {
      "text/plain": "array([-3.1528991 , -2.53339445, -1.91388981, -1.29438516, -0.67488052,\n       -0.05537587,  0.56412877,  1.18363342,  1.80313806,  2.42264271,\n        3.04214736,  3.661652  ,  4.28115665,  4.90066129,  5.52016594,\n        6.13967058,  6.75917523,  7.37867988,  7.99818452,  8.61768917,\n        9.23719381,  9.85669846, 10.4762031 , 11.09570775, 11.7152124 ,\n       12.33471704, 12.95422169, 13.57372633, 14.19323098, 14.81273562,\n       15.43224027, 16.05174492, 16.67124956, 17.29075421, 17.91025885,\n       18.5297635 , 19.14926814, 19.76877279, 20.38827743, 21.00778208])"
     },
     "execution_count": 89,
     "metadata": {},
     "output_type": "execute_result"
    }
   ],
   "source": [
    "yfit = model.predict(Xfit)\n",
    "yfit"
   ],
   "metadata": {
    "collapsed": false,
    "pycharm": {
     "name": "#%%\n"
    }
   }
  },
  {
   "cell_type": "code",
   "execution_count": 93,
   "outputs": [
    {
     "name": "stdout",
     "output_type": "stream",
     "text": [
      "Coefficient of determination: 0.9780949186629684\n"
     ]
    }
   ],
   "source": [
    "r_sq = model.score(X, y)\n",
    "print(\"Coefficient of determination:\", r_sq)"
   ],
   "metadata": {
    "collapsed": false,
    "pycharm": {
     "name": "#%%\n"
    }
   }
  },
  {
   "cell_type": "code",
   "execution_count": 102,
   "outputs": [
    {
     "name": "stdout",
     "output_type": "stream",
     "text": [
      "Coefficient of determination: 1.0\n"
     ]
    }
   ],
   "source": [
    "r_sq = model.score(xfit.reshape(-1, 1), yfit)\n",
    "print(\"Coefficient of determination:\", r_sq)"
   ],
   "metadata": {
    "collapsed": false,
    "pycharm": {
     "name": "#%%\n"
    }
   }
  },
  {
   "cell_type": "code",
   "execution_count": 103,
   "outputs": [],
   "source": [
    "from sklearn.metrics import mean_squared_error"
   ],
   "metadata": {
    "collapsed": false,
    "pycharm": {
     "name": "#%%\n"
    }
   }
  },
  {
   "cell_type": "code",
   "execution_count": 104,
   "outputs": [
    {
     "data": {
      "text/plain": "0.7738965173505655"
     },
     "execution_count": 104,
     "metadata": {},
     "output_type": "execute_result"
    }
   ],
   "source": [
    "mean_squared_error(y, ((model.coef_ * x) + model.intercept_))"
   ],
   "metadata": {
    "collapsed": false,
    "pycharm": {
     "name": "#%%\n"
    }
   }
  },
  {
   "cell_type": "code",
   "execution_count": 105,
   "outputs": [
    {
     "data": {
      "text/plain": "0.0"
     },
     "execution_count": 105,
     "metadata": {},
     "output_type": "execute_result"
    }
   ],
   "source": [
    "mean_squared_error(yfit, ((model.coef_ * xfit) + model.intercept_))"
   ],
   "metadata": {
    "collapsed": false,
    "pycharm": {
     "name": "#%%\n"
    }
   }
  },
  {
   "cell_type": "code",
   "execution_count": 106,
   "outputs": [],
   "source": [
    "x = [[0, 1], [5, 1], [15, 2], [25, 5], [35, 11], [45, 15], [55, 34], [60, 35]]\n",
    "y = [4, 5, 20, 14, 32, 22, 38, 43]"
   ],
   "metadata": {
    "collapsed": false,
    "pycharm": {
     "name": "#%%\n"
    }
   }
  },
  {
   "cell_type": "code",
   "execution_count": 107,
   "outputs": [
    {
     "data": {
      "text/plain": "array([[ 0,  1],\n       [ 5,  1],\n       [15,  2],\n       [25,  5],\n       [35, 11],\n       [45, 15],\n       [55, 34],\n       [60, 35]])"
     },
     "metadata": {},
     "output_type": "display_data"
    },
    {
     "data": {
      "text/plain": "array([ 4,  5, 20, 14, 32, 22, 38, 43])"
     },
     "metadata": {},
     "output_type": "display_data"
    }
   ],
   "source": [
    "x, y = np.array(x), np.array(y)\n",
    "display(x)\n",
    "display(y)"
   ],
   "metadata": {
    "collapsed": false,
    "pycharm": {
     "name": "#%%\n"
    }
   }
  },
  {
   "cell_type": "code",
   "execution_count": 109,
   "outputs": [
    {
     "data": {
      "text/plain": "LinearRegression()"
     },
     "execution_count": 109,
     "metadata": {},
     "output_type": "execute_result"
    }
   ],
   "source": [
    "model = LinearRegression()\n",
    "model"
   ],
   "metadata": {
    "collapsed": false,
    "pycharm": {
     "name": "#%%\n"
    }
   }
  },
  {
   "cell_type": "code",
   "execution_count": 110,
   "outputs": [
    {
     "data": {
      "text/plain": "LinearRegression()"
     },
     "execution_count": 110,
     "metadata": {},
     "output_type": "execute_result"
    }
   ],
   "source": [
    "model.fit(x, y)"
   ],
   "metadata": {
    "collapsed": false,
    "pycharm": {
     "name": "#%%\n"
    }
   }
  },
  {
   "cell_type": "code",
   "execution_count": 116,
   "outputs": [
    {
     "name": "stdout",
     "output_type": "stream",
     "text": [
      "0.4470696489\n",
      "0.2550254813\n"
     ]
    }
   ],
   "source": [
    "for i in model.coef_:\n",
    "    print(\"%.10f\" % i)"
   ],
   "metadata": {
    "collapsed": false,
    "pycharm": {
     "name": "#%%\n"
    }
   }
  },
  {
   "cell_type": "code",
   "execution_count": 113,
   "outputs": [
    {
     "data": {
      "text/plain": "5.52257927519819"
     },
     "execution_count": 113,
     "metadata": {},
     "output_type": "execute_result"
    }
   ],
   "source": [
    "model.intercept_"
   ],
   "metadata": {
    "collapsed": false,
    "pycharm": {
     "name": "#%%\n"
    }
   }
  },
  {
   "cell_type": "code",
   "execution_count": 117,
   "outputs": [
    {
     "name": "stdout",
     "output_type": "stream",
     "text": [
      "predicted response:\n",
      "[ 5.77760476  8.012953   12.73867497 17.9744479  23.97529728 29.4660957\n",
      " 38.78227633 41.27265006]\n"
     ]
    }
   ],
   "source": [
    "y_pred = model.predict(x)\n",
    "print('predicted response:', y_pred, sep='\\n')"
   ],
   "metadata": {
    "collapsed": false,
    "pycharm": {
     "name": "#%%\n"
    }
   }
  },
  {
   "cell_type": "code",
   "execution_count": 118,
   "outputs": [
    {
     "data": {
      "text/plain": "array([[0, 1],\n       [2, 3],\n       [4, 5],\n       [6, 7],\n       [8, 9]])"
     },
     "execution_count": 118,
     "metadata": {},
     "output_type": "execute_result"
    }
   ],
   "source": [
    "x_new = np.arange(10).reshape((-1, 2))\n",
    "x_new"
   ],
   "metadata": {
    "collapsed": false,
    "pycharm": {
     "name": "#%%\n"
    }
   }
  },
  {
   "cell_type": "code",
   "execution_count": 119,
   "outputs": [
    {
     "data": {
      "text/plain": "array([ 5.77760476,  7.18179502,  8.58598528,  9.99017554, 11.3943658 ])"
     },
     "execution_count": 119,
     "metadata": {},
     "output_type": "execute_result"
    }
   ],
   "source": [
    "y_new = model.predict(x_new)\n",
    "y_new"
   ],
   "metadata": {
    "collapsed": false,
    "pycharm": {
     "name": "#%%\n"
    }
   }
  },
  {
   "cell_type": "code",
   "execution_count": 120,
   "outputs": [
    {
     "name": "stdout",
     "output_type": "stream",
     "text": [
      "coefficient of determination: 0.8615939258756775\n"
     ]
    }
   ],
   "source": [
    "r_sq = model.score(x, y)\n",
    "print('coefficient of determination:', r_sq)"
   ],
   "metadata": {
    "collapsed": false,
    "pycharm": {
     "name": "#%%\n"
    }
   }
  },
  {
   "cell_type": "code",
   "execution_count": 133,
   "outputs": [
    {
     "name": "stdout",
     "output_type": "stream",
     "text": [
      "(5, 1)\n"
     ]
    },
    {
     "data": {
      "text/plain": "array([[0],\n       [2],\n       [4],\n       [6],\n       [8]])"
     },
     "execution_count": 133,
     "metadata": {},
     "output_type": "execute_result"
    }
   ],
   "source": [
    "print(x_new[:, 0].reshape((5,1)).shape)\n",
    "x_new[:, 0].reshape((5,1))"
   ],
   "metadata": {
    "collapsed": false,
    "pycharm": {
     "name": "#%%\n"
    }
   }
  },
  {
   "cell_type": "code",
   "execution_count": 134,
   "outputs": [
    {
     "name": "stdout",
     "output_type": "stream",
     "text": [
      "(5, 1)\n"
     ]
    },
    {
     "data": {
      "text/plain": "array([[1],\n       [3],\n       [5],\n       [7],\n       [9]])"
     },
     "execution_count": 134,
     "metadata": {},
     "output_type": "execute_result"
    }
   ],
   "source": [
    "print(x_new[:, 1].reshape((5,1)).shape)\n",
    "x_new[:, 1].reshape((5,1))"
   ],
   "metadata": {
    "collapsed": false,
    "pycharm": {
     "name": "#%%\n"
    }
   }
  },
  {
   "cell_type": "code",
   "execution_count": 138,
   "outputs": [
    {
     "data": {
      "text/plain": "[<matplotlib.lines.Line2D at 0x12205b6b188>,\n <matplotlib.lines.Line2D at 0x12205b6b0c8>]"
     },
     "execution_count": 138,
     "metadata": {},
     "output_type": "execute_result"
    },
    {
     "data": {
      "text/plain": "<Figure size 640x480 with 1 Axes>",
      "image/png": "[encoded data removed]"
     },
     "metadata": {},
     "output_type": "display_data"
    }
   ],
   "source": [
    "plt.plot(x_new, ((model.coef_ * x_new) + model.intercept_))"
   ],
   "metadata": {
    "collapsed": false,
    "pycharm": {
     "name": "#%%\n"
    }
   }
  }
 ],
 "metadata": {
  "kernelspec": {
   "display_name": "Python 3",
   "language": "python",
   "name": "python3"
  },
  "language_info": {
   "codemirror_mode": {
    "name": "ipython",
    "version": 2
   },
   "file_extension": ".py",
   "mimetype": "text/x-python",
   "name": "python",
   "nbconvert_exporter": "python",
   "pygments_lexer": "ipython2",
   "version": "2.7.6"
  }
 },
 "nbformat": 4,
 "nbformat_minor": 0
}